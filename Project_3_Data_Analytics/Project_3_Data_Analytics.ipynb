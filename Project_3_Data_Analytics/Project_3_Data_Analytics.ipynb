{
 "cells": [
  {
   "cell_type": "markdown",
   "id": "3Xg_RQfnafXz",
   "metadata": {
    "id": "3Xg_RQfnafXz"
   },
   "source": [
    "# ¡Llena ese carrito!"
   ]
  },
  {
   "cell_type": "markdown",
   "id": "mhIvmmkW414q",
   "metadata": {
    "id": "mhIvmmkW414q"
   },
   "source": [
    "# Introducción\n",
    "\n",
    "Instacart es una plataforma de entregas de comestibles donde la clientela puede registrar un pedido y hacer que se lo entreguen, similar a Uber Eats y Door Dash.\n",
    "\n"
   ]
  },
  {
   "cell_type": "markdown",
   "id": "3MbyzpOQZ5Or",
   "metadata": {
    "id": "3MbyzpOQZ5Or"
   },
   "source": [
    "## Diccionario de datos\n",
    "\n",
    "Hay cinco tablas en el conjunto de datos, y tendrás que usarlas todas para hacer el preprocesamiento de datos y el análisis exploratorio de datos. A continuación se muestra un diccionario de datos que enumera las columnas de cada tabla y describe los datos que contienen.\n",
    "\n",
    "- `instacart_orders.csv`: cada fila corresponde a un pedido en la aplicación Instacart.\n",
    "    - `'order_id'`: número de ID que identifica de manera única cada pedido.\n",
    "    - `'user_id'`: número de ID que identifica de manera única la cuenta de cada cliente.\n",
    "    - `'order_number'`: el número de veces que este cliente ha hecho un pedido.\n",
    "    - `'order_dow'`: día de la semana en que se hizo el pedido (0 si es domingo).\n",
    "    - `'order_hour_of_day'`: hora del día en que se hizo el pedido.\n",
    "    - `'days_since_prior_order'`: número de días transcurridos desde que este cliente hizo su pedido anterior.\n",
    "- `products.csv`: cada fila corresponde a un producto único que pueden comprar los clientes.\n",
    "    - `'product_id'`: número ID que identifica de manera única cada producto.\n",
    "    - `'product_name'`: nombre del producto.\n",
    "    - `'aisle_id'`: número ID que identifica de manera única cada categoría de pasillo de víveres.\n",
    "    - `'department_id'`: número ID que identifica de manera única cada departamento de víveres.\n",
    "- `order_products.csv`: cada fila corresponde a un artículo pedido en un pedido.\n",
    "    - `'order_id'`: número de ID que identifica de manera única cada pedido.\n",
    "    - `'product_id'`: número ID que identifica de manera única cada producto.\n",
    "    - `'add_to_cart_order'`: el orden secuencial en el que se añadió cada artículo en el carrito.\n",
    "    - `'reordered'`: 0 si el cliente nunca ha pedido este producto antes, 1 si lo ha pedido.\n",
    "- `aisles.csv`\n",
    "    - `'aisle_id'`: número ID que identifica de manera única cada categoría de pasillo de víveres.\n",
    "    - `'aisle'`: nombre del pasillo.\n",
    "- `departments.csv`\n",
    "    - `'department_id'`: número ID que identifica de manera única cada departamento de víveres.\n",
    "    - `'department'`: nombre del departamento."
   ]
  },
  {
   "cell_type": "markdown",
   "id": "n3Ha_cNSZ8lK",
   "metadata": {
    "id": "n3Ha_cNSZ8lK"
   },
   "source": [
    "# Paso 1. Descripción de los datos\n",
    "\n",
    "Lee los archivos de datos (`/datasets/instacart_orders.csv`, `/datasets/products.csv`, `/datasets/aisles.csv`, `/datasets/departments.csv` y `/datasets/order_products.csv`) con `pd.read_csv()` usando los parámetros adecuados para leer los datos correctamente. Verifica la información para cada DataFrame creado.\n"
   ]
  },
  {
   "cell_type": "code",
   "execution_count": 1,
   "id": "fbf1adab",
   "metadata": {
    "id": "fbf1adab"
   },
   "outputs": [],
   "source": [
    "# importar librerías\n",
    "import pandas as pd\n",
    "from matplotlib import pyplot as plt\n",
    "\n"
   ]
  },
  {
   "cell_type": "code",
   "execution_count": 2,
   "id": "ad36396d",
   "metadata": {
    "id": "ad36396d"
   },
   "outputs": [],
   "source": [
    "# leer conjuntos de datos en los DataFrames\n",
    "df_orders = pd.read_csv('/datasets/instacart_orders.csv',sep=';') #se utiliza sep=';' para obtener las columnas correctas ya que de lo contrario solo se obtiene una columna \n",
    "df_products = pd.read_csv('/datasets/products.csv',sep=';') \n",
    "df_aisles = pd.read_csv('/datasets/aisles.csv',sep=';') \n",
    "df_departments = pd.read_csv('/datasets/departments.csv',sep=';') \n",
    "df_order_products = pd.read_csv('/datasets/order_products.csv',sep=';')"
   ]
  },
  {
   "cell_type": "code",
   "execution_count": 3,
   "id": "ad6a1efa",
   "metadata": {
    "id": "ad6a1efa"
   },
   "outputs": [
    {
     "name": "stdout",
     "output_type": "stream",
     "text": [
      "<class 'pandas.core.frame.DataFrame'>\n",
      "RangeIndex: 478967 entries, 0 to 478966\n",
      "Data columns (total 6 columns):\n",
      " #   Column                  Non-Null Count   Dtype  \n",
      "---  ------                  --------------   -----  \n",
      " 0   order_id                478967 non-null  int64  \n",
      " 1   user_id                 478967 non-null  int64  \n",
      " 2   order_number            478967 non-null  int64  \n",
      " 3   order_dow               478967 non-null  int64  \n",
      " 4   order_hour_of_day       478967 non-null  int64  \n",
      " 5   days_since_prior_order  450148 non-null  float64\n",
      "dtypes: float64(1), int64(5)\n",
      "memory usage: 21.9 MB\n"
     ]
    }
   ],
   "source": [
    "df_orders.info() # mostrar información del DataFrame"
   ]
  },
  {
   "cell_type": "code",
   "execution_count": 4,
   "id": "5130e05e",
   "metadata": {
    "id": "5130e05e"
   },
   "outputs": [
    {
     "name": "stdout",
     "output_type": "stream",
     "text": [
      "<class 'pandas.core.frame.DataFrame'>\n",
      "RangeIndex: 49694 entries, 0 to 49693\n",
      "Data columns (total 4 columns):\n",
      " #   Column         Non-Null Count  Dtype \n",
      "---  ------         --------------  ----- \n",
      " 0   product_id     49694 non-null  int64 \n",
      " 1   product_name   48436 non-null  object\n",
      " 2   aisle_id       49694 non-null  int64 \n",
      " 3   department_id  49694 non-null  int64 \n",
      "dtypes: int64(3), object(1)\n",
      "memory usage: 1.5+ MB\n"
     ]
    }
   ],
   "source": [
    "df_products.info() # mostrar información del DataFrame"
   ]
  },
  {
   "cell_type": "code",
   "execution_count": 5,
   "id": "d8370c05",
   "metadata": {
    "id": "d8370c05"
   },
   "outputs": [
    {
     "name": "stdout",
     "output_type": "stream",
     "text": [
      "<class 'pandas.core.frame.DataFrame'>\n",
      "RangeIndex: 134 entries, 0 to 133\n",
      "Data columns (total 2 columns):\n",
      " #   Column    Non-Null Count  Dtype \n",
      "---  ------    --------------  ----- \n",
      " 0   aisle_id  134 non-null    int64 \n",
      " 1   aisle     134 non-null    object\n",
      "dtypes: int64(1), object(1)\n",
      "memory usage: 2.2+ KB\n"
     ]
    }
   ],
   "source": [
    "df_aisles.info() # mostrar información del DataFrame"
   ]
  },
  {
   "cell_type": "code",
   "execution_count": 6,
   "id": "59e2090f",
   "metadata": {
    "id": "59e2090f"
   },
   "outputs": [
    {
     "name": "stdout",
     "output_type": "stream",
     "text": [
      "<class 'pandas.core.frame.DataFrame'>\n",
      "RangeIndex: 21 entries, 0 to 20\n",
      "Data columns (total 2 columns):\n",
      " #   Column         Non-Null Count  Dtype \n",
      "---  ------         --------------  ----- \n",
      " 0   department_id  21 non-null     int64 \n",
      " 1   department     21 non-null     object\n",
      "dtypes: int64(1), object(1)\n",
      "memory usage: 464.0+ bytes\n"
     ]
    }
   ],
   "source": [
    "df_departments.info() # mostrar información del DataFrame"
   ]
  },
  {
   "cell_type": "code",
   "execution_count": 7,
   "id": "6fc81694",
   "metadata": {
    "id": "6fc81694"
   },
   "outputs": [
    {
     "name": "stdout",
     "output_type": "stream",
     "text": [
      "<class 'pandas.core.frame.DataFrame'>\n",
      "RangeIndex: 4545007 entries, 0 to 4545006\n",
      "Data columns (total 4 columns):\n",
      " #   Column             Dtype  \n",
      "---  ------             -----  \n",
      " 0   order_id           int64  \n",
      " 1   product_id         int64  \n",
      " 2   add_to_cart_order  float64\n",
      " 3   reordered          int64  \n",
      "dtypes: float64(1), int64(3)\n",
      "memory usage: 138.7 MB\n"
     ]
    }
   ],
   "source": [
    "df_order_products.info() # mostrar información del DataFrame"
   ]
  },
  {
   "cell_type": "markdown",
   "id": "t75BD19oaR5f",
   "metadata": {
    "id": "t75BD19oaR5f"
   },
   "source": [
    "## Conclusiones\n",
    "\n",
    "Con el método 'info()' pudimos ver que al parecer no existen valores ausentes en los DataFrames, sin embargo cada uno de ellos tiene una cantidad de datos distintos, lo cual podría ser correcto en 'aisles' y 'departments', aunque en otros como 'order_products' y 'instacart_orders' esto podría indicar valores duplicados ya que ambos deberían tener valores similares al ser uno las ordenes y los productos, siendo además que en todo caso el DataFrame de 'order_products' debería tener más datos que 'instacart_orders' al ser el primero el desglose del último, indicando duplicados en 'order_products'"
   ]
  },
  {
   "cell_type": "markdown",
   "id": "8RJHqxVmaVsF",
   "metadata": {
    "id": "8RJHqxVmaVsF"
   },
   "source": [
    "# Paso 2. Preprocesamiento de los datos\n",
    "\n",
    "Preprocesar los datos de la siguiente manera:\n",
    "\n",
    "- Verifica y corrige los tipos de datos (por ejemplo, asegúrate de que las columnas de ID sean números enteros).\n",
    "- Identifica y completa los valores ausentes.\n",
    "- Identifica y elimina los valores duplicados.\n",
    "\n"
   ]
  },
  {
   "cell_type": "markdown",
   "id": "p6poABZQaZYb",
   "metadata": {
    "id": "p6poABZQaZYb"
   },
   "source": [
    "## Plan de solución\n",
    "\n",
    "Escribe aquí tu plan para el Paso 2. Preprocesamiento de los datos. \n",
    "\n",
    "R = El primer paso para preprocesar los datos es identificar si se tienen datos nulos o duplicados, siendo que en este caso el problema principal aparente los datos duplicados los cuales pueden identificarse primero medainte el método unique(), y ser eliminados mediante drop() o bien reemplazados mediante replace() según sea el caso. Sin embargo, se deben identificar igualmente los datos nulos o con información errónea los cuales no hallan sido identificados por el método info(), siendo que se tendrá que evaluar si estos errores pueden ser reemplazados por un valor de media o mediana o bien ser directamnte eliminados si es que su elimincaión no afecta a los resultados del análsis  \n",
    "\n"
   ]
  },
  {
   "cell_type": "markdown",
   "id": "07357848-dc64-4156-9cc3-01ff4365226d",
   "metadata": {
    "id": "07357848-dc64-4156-9cc3-01ff4365226d"
   },
   "source": [
    "## Encuentra y elimina los valores duplicados (y describe cómo tomaste tus decisiones)."
   ]
  },
  {
   "cell_type": "markdown",
   "id": "f179f0a9",
   "metadata": {
    "id": "f179f0a9"
   },
   "source": [
    "### `orders` data frame"
   ]
  },
  {
   "cell_type": "code",
   "execution_count": 8,
   "id": "b99297a5-405a-463d-8535-9adc3da4ad74",
   "metadata": {
    "id": "b99297a5-405a-463d-8535-9adc3da4ad74"
   },
   "outputs": [
    {
     "name": "stdout",
     "output_type": "stream",
     "text": [
      "15\n",
      "        order_id  user_id  order_number  order_dow  order_hour_of_day  \\\n",
      "0        1515936   183418            11          6                 13   \n",
      "1        1690866   163593             5          5                 12   \n",
      "2        1454967    39980             4          5                 19   \n",
      "3        1768857    82516            56          0                 20   \n",
      "4        3007858   196724             2          4                 12   \n",
      "...          ...      ...           ...        ...                ...   \n",
      "478962   3210681     5617             5          1                 14   \n",
      "478963   3270802   112087             2          3                 13   \n",
      "478964    885349    82944            16          2                 11   \n",
      "478965    216274     4391             3          3                  8   \n",
      "478966   2071924     1730            18          1                 14   \n",
      "\n",
      "        days_since_prior_order  \n",
      "0                         30.0  \n",
      "1                          9.0  \n",
      "2                          2.0  \n",
      "3                         10.0  \n",
      "4                         17.0  \n",
      "...                        ...  \n",
      "478962                     7.0  \n",
      "478963                     6.0  \n",
      "478964                     6.0  \n",
      "478965                     8.0  \n",
      "478966                    15.0  \n",
      "\n",
      "[478967 rows x 6 columns]\n",
      "order_id  user_id  order_number  order_dow  order_hour_of_day  days_since_prior_order\n",
      "1021560   53767    3             3          2                  9.0                       2\n",
      "467134    63189    21            3          2                  2.0                       2\n",
      "391768    57671    19            3          2                  10.0                      2\n",
      "2282673   86751    49            3          2                  2.0                       2\n",
      "408114    68324    4             3          2                  18.0                      2\n",
      "                                                                                        ..\n",
      "1141863   88987    2             1          11                 14.0                      1\n",
      "1141854   125458   91            6          8                  2.0                       1\n",
      "1141847   156072   4             2          21                 6.0                       1\n",
      "1141845   153218   2             3          8                  6.0                       1\n",
      "3421079   108687   6             1          13                 0.0                       1\n",
      "Length: 450135, dtype: int64\n"
     ]
    }
   ],
   "source": [
    "print(df_orders.duplicated().sum()) #mediante duplicated y sum contamos el total de valores duplicados \n",
    "print(df_orders) #se imprime el dataset para verificar visualmente los valores duplicados e identifacar en que columna se encuentran \n",
    "print(df_orders.value_counts()) #revisamos value counts para identificar cuales son los duplicados \n",
    "\n",
    "# Revisa si hay pedidos duplicados\n"
   ]
  },
  {
   "cell_type": "markdown",
   "id": "PEkwUX_gvt5A",
   "metadata": {
    "id": "PEkwUX_gvt5A"
   },
   "source": [
    "En este caso encontramos que las líneas duplicadas son exactamente dos es decir al llamar al método duplicated() junto a sum(), tenemos que los duplicados son un total de 15 entre los 478952 totales, siendo que estos no se ven en cantidad al imprimir el dataframe e igualmente al llamar al método value_counts() tenemos que estos se repiten unicamente dos veces lo que en lugar de indicarnos una orden con datos, puede deberse a un error de sistema al registarse dos veces una misma orden. "
   ]
  },
  {
   "cell_type": "code",
   "execution_count": 9,
   "id": "0d44de5d",
   "metadata": {
    "id": "0d44de5d"
   },
   "outputs": [
    {
     "name": "stdout",
     "output_type": "stream",
     "text": [
      "        order_id  user_id  order_number  order_dow  order_hour_of_day  \\\n",
      "4838     2766110   162084            41          3                  2   \n",
      "5156     2190225   138285            18          3                  2   \n",
      "15506     553049    58599            13          3                  2   \n",
      "18420     382357   120200            19          3                  2   \n",
      "24691     690242    77357             2          3                  2   \n",
      "...          ...      ...           ...        ...                ...   \n",
      "457013   3384021    14881             6          3                  2   \n",
      "458816    910166   164782            18          3                  2   \n",
      "459635   1680532   106435             6          3                  2   \n",
      "468324    222962    54979            59          3                  2   \n",
      "477526   2592344    46860            38          3                  2   \n",
      "\n",
      "        days_since_prior_order  \n",
      "4838                      16.0  \n",
      "5156                      11.0  \n",
      "15506                      7.0  \n",
      "18420                     11.0  \n",
      "24691                      9.0  \n",
      "...                        ...  \n",
      "457013                    30.0  \n",
      "458816                     4.0  \n",
      "459635                    21.0  \n",
      "468324                     3.0  \n",
      "477526                     3.0  \n",
      "\n",
      "[121 rows x 6 columns]\n",
      "order_id  user_id  order_number  order_dow  order_hour_of_day  days_since_prior_order\n",
      "794638    50898    24            3          2                  2.0                       2\n",
      "1919531   191501   32            3          2                  7.0                       2\n",
      "2845099   31189    11            3          2                  7.0                       2\n",
      "467134    63189    21            3          2                  2.0                       2\n",
      "1112182   202304   84            3          2                  6.0                       2\n",
      "                                                                                        ..\n",
      "898850    14380    4             3          2                  30.0                      1\n",
      "851025    168387   54            3          2                  15.0                      1\n",
      "819551    29545    15            3          2                  4.0                       1\n",
      "781491    51960    5             3          2                  30.0                      1\n",
      "3389820   21703    2             3          2                  11.0                      1\n",
      "Length: 101, dtype: int64\n",
      "4838      False\n",
      "5156      False\n",
      "15506     False\n",
      "18420     False\n",
      "24691     False\n",
      "          ...  \n",
      "457013    False\n",
      "458816    False\n",
      "459635    False\n",
      "468324    False\n",
      "477526    False\n",
      "Length: 121, dtype: bool\n",
      "15\n"
     ]
    }
   ],
   "source": [
    "# Basándote en tus hallazgos,\n",
    "# Verifica todos los pedidos que se hicieron el miércoles a las 2:00 a.m. \n",
    "\n",
    "orders_mier_2am = df_orders[(df_orders[\"order_dow\"] == 3) & (df_orders[\"order_hour_of_day\"] == 2)]\n",
    "print(orders_mier_2am)\n",
    "print(orders_mier_2am.value_counts())\n",
    "print(orders_mier_2am.duplicated())\n",
    "print(orders_mier_2am.duplicated().sum())\n"
   ]
  },
  {
   "cell_type": "markdown",
   "id": "vu2OWyoqwOx5",
   "metadata": {
    "id": "vu2OWyoqwOx5"
   },
   "source": [
    " En este caso vemos que efectivamente tenemos valores duplicados siendo que estos se hallan celdas con dos valores iguales usando el método value.counts(), así como con el método duplicated observamaos que los duplicados se encuentran en este rango, al ser estos los 15 valores hallados anteriormente en el DataFrame lo que podría sugerir un error en el sistema de registro en esa hora y día específicos. "
   ]
  },
  {
   "cell_type": "code",
   "execution_count": 10,
   "id": "480563c7",
   "metadata": {
    "id": "480563c7"
   },
   "outputs": [],
   "source": [
    "df_orders.drop_duplicates(inplace=True)\n",
    "\n",
    "# Elimina los pedidos duplicados\n"
   ]
  },
  {
   "cell_type": "code",
   "execution_count": 11,
   "id": "0b2396a2",
   "metadata": {
    "id": "0b2396a2"
   },
   "outputs": [
    {
     "name": "stdout",
     "output_type": "stream",
     "text": [
      "0\n"
     ]
    }
   ],
   "source": [
    "print(df_orders.duplicated().sum())\n",
    "# Vuelve a verificar si hay filas duplicadas\n"
   ]
  },
  {
   "cell_type": "code",
   "execution_count": 12,
   "id": "f6113ef1",
   "metadata": {
    "id": "f6113ef1"
   },
   "outputs": [
    {
     "name": "stdout",
     "output_type": "stream",
     "text": [
      "0\n"
     ]
    }
   ],
   "source": [
    "print(df_orders.duplicated('order_id').sum())\n",
    "\n",
    "# Vuelve a verificar únicamente si hay IDs duplicados de pedidos\n"
   ]
  },
  {
   "cell_type": "markdown",
   "id": "5e8905ae",
   "metadata": {
    "id": "5e8905ae"
   },
   "source": [
    "Vimos los valores duplicados y se observó que los mismos se obtenían solo en un plazo específico de tiempo siendo los días miercoles a las 2.00 am. Al observar que estos datos solo se tenían en un plazo de tiempo específico y además eran muy pocos (solo 15), estos valores duplicados al eliminarlos no se afectan los valores finales de los datos, por ende estos pueden ser eliminados de manera segura, por lo cual se elimanaron medainte el método `'drop_duplicates()'`"
   ]
  },
  {
   "cell_type": "markdown",
   "id": "45e6bc46",
   "metadata": {
    "id": "45e6bc46"
   },
   "source": [
    "### `products` data frame"
   ]
  },
  {
   "cell_type": "code",
   "execution_count": 13,
   "id": "5f526b5b-8175-46fa-a0fd-441767d50e64",
   "metadata": {
    "id": "5f526b5b-8175-46fa-a0fd-441767d50e64"
   },
   "outputs": [
    {
     "name": "stdout",
     "output_type": "stream",
     "text": [
      "0        False\n",
      "1        False\n",
      "2        False\n",
      "3        False\n",
      "4        False\n",
      "         ...  \n",
      "49689    False\n",
      "49690    False\n",
      "49691    False\n",
      "49692    False\n",
      "49693    False\n",
      "Length: 49694, dtype: bool\n",
      "0\n",
      "       product_id                                       product_name  \\\n",
      "0               1                         Chocolate Sandwich Cookies   \n",
      "1               2                                   All-Seasons Salt   \n",
      "2               3               Robust Golden Unsweetened Oolong Tea   \n",
      "3               4  Smart Ones Classic Favorites Mini Rigatoni Wit...   \n",
      "4               5                          Green Chile Anytime Sauce   \n",
      "...           ...                                                ...   \n",
      "49689       49690                      HIGH PERFORMANCE ENERGY DRINK   \n",
      "49690       49691                      ORIGINAL PANCAKE & WAFFLE MIX   \n",
      "49691       49692    ORGANIC INSTANT OATMEAL LIGHT MAPLE BROWN SUGAR   \n",
      "49692       49693                             SPRING WATER BODY WASH   \n",
      "49693       49694                            BURRITO- STEAK & CHEESE   \n",
      "\n",
      "       aisle_id  department_id  \n",
      "0            61             19  \n",
      "1           104             13  \n",
      "2            94              7  \n",
      "3            38              1  \n",
      "4             5             13  \n",
      "...         ...            ...  \n",
      "49689        64              7  \n",
      "49690       130             14  \n",
      "49691       130             14  \n",
      "49692       127             11  \n",
      "49693        38              1  \n",
      "\n",
      "[49694 rows x 4 columns]\n"
     ]
    }
   ],
   "source": [
    "print(df_products.duplicated())\n",
    "print(df_products.duplicated().sum()) \n",
    "print(df_products)\n",
    "# Verifica si hay filas totalmente duplicadas\n"
   ]
  },
  {
   "cell_type": "code",
   "execution_count": 14,
   "id": "88daa4f4",
   "metadata": {
    "id": "88daa4f4"
   },
   "outputs": [
    {
     "name": "stdout",
     "output_type": "stream",
     "text": [
      "0        False\n",
      "1        False\n",
      "2        False\n",
      "3        False\n",
      "4         True\n",
      "         ...  \n",
      "49689     True\n",
      "49690     True\n",
      "49691     True\n",
      "49692     True\n",
      "49693     True\n",
      "Length: 49694, dtype: bool\n",
      "49673\n"
     ]
    }
   ],
   "source": [
    "print(df_products.duplicated('department_id'))\n",
    "print(df_products.duplicated('department_id').sum()) \n",
    "# Revisa únicamente si hay ID de departamentos duplicados\n"
   ]
  },
  {
   "cell_type": "code",
   "execution_count": 15,
   "id": "c773f0bf",
   "metadata": {
    "id": "c773f0bf"
   },
   "outputs": [
    {
     "name": "stdout",
     "output_type": "stream",
     "text": [
      "0        False\n",
      "1        False\n",
      "2        False\n",
      "3        False\n",
      "4        False\n",
      "         ...  \n",
      "49689    False\n",
      "49690    False\n",
      "49691    False\n",
      "49692    False\n",
      "49693    False\n",
      "Length: 49694, dtype: bool\n",
      "1257\n"
     ]
    }
   ],
   "source": [
    "df_products['product_name'].str.upper()\n",
    "print(df_products.duplicated('product_name'))\n",
    "print(df_products.duplicated('product_name').sum())\n",
    "# Revisa únicamente si hay nombres duplicados de productos (convierte los nombres a letras mayúsculas para compararlos mejor)\n"
   ]
  },
  {
   "cell_type": "code",
   "execution_count": 16,
   "id": "01efd02e",
   "metadata": {
    "id": "01efd02e"
   },
   "outputs": [
    {
     "name": "stdout",
     "output_type": "stream",
     "text": [
      "Empty DataFrame\n",
      "Columns: [product_id, product_name, aisle_id, department_id]\n",
      "Index: []\n"
     ]
    }
   ],
   "source": [
    "# Revisa si hay nombres duplicados de productos no faltantes\n",
    "print(df_products[(df_products['product_name'].duplicated()) & ~(df_products['product_name'].isna())])"
   ]
  },
  {
   "cell_type": "markdown",
   "id": "9da8d293",
   "metadata": {
    "id": "9da8d293"
   },
   "source": [
    "Observamos que los valores ausentes en este caso, son los valores duplicados, siendo que no se obtuvo valor alguno al filtrar los duplicados agregando la condición de valores no ausentes, por lo que se puede concluir que en este DataFrame no se tienen realmente valores de productos duplicados. "
   ]
  },
  {
   "cell_type": "markdown",
   "id": "60f30db1",
   "metadata": {
    "id": "60f30db1"
   },
   "source": [
    "### `departments` data frame"
   ]
  },
  {
   "cell_type": "code",
   "execution_count": 17,
   "id": "fb410ad4-0fbf-4b80-bb09-23fdea79afe3",
   "metadata": {
    "id": "fb410ad4-0fbf-4b80-bb09-23fdea79afe3"
   },
   "outputs": [
    {
     "name": "stdout",
     "output_type": "stream",
     "text": [
      "0     False\n",
      "1     False\n",
      "2     False\n",
      "3     False\n",
      "4     False\n",
      "5     False\n",
      "6     False\n",
      "7     False\n",
      "8     False\n",
      "9     False\n",
      "10    False\n",
      "11    False\n",
      "12    False\n",
      "13    False\n",
      "14    False\n",
      "15    False\n",
      "16    False\n",
      "17    False\n",
      "18    False\n",
      "19    False\n",
      "20    False\n",
      "dtype: bool\n",
      "0\n",
      "    department_id       department\n",
      "0               1           frozen\n",
      "1               2            other\n",
      "2               3           bakery\n",
      "3               4          produce\n",
      "4               5          alcohol\n",
      "5               6    international\n",
      "6               7        beverages\n",
      "7               8             pets\n",
      "8               9  dry goods pasta\n",
      "9              10             bulk\n",
      "10             11    personal care\n",
      "11             12     meat seafood\n",
      "12             13           pantry\n",
      "13             14        breakfast\n",
      "14             15     canned goods\n",
      "15             16       dairy eggs\n",
      "16             17        household\n",
      "17             18           babies\n",
      "18             19           snacks\n",
      "19             20             deli\n",
      "20             21          missing\n"
     ]
    }
   ],
   "source": [
    "print(df_departments.duplicated())\n",
    "print(df_departments.duplicated().sum())\n",
    "print(df_departments)\n",
    "# Revisa si hay filas totalmente duplicadas"
   ]
  },
  {
   "cell_type": "code",
   "execution_count": 18,
   "id": "332b12bb",
   "metadata": {
    "id": "332b12bb"
   },
   "outputs": [
    {
     "name": "stdout",
     "output_type": "stream",
     "text": [
      "0\n"
     ]
    }
   ],
   "source": [
    "print(df_departments.duplicated('department_id').sum())# Revisa únicamente si hay IDs duplicadas de productos"
   ]
  },
  {
   "cell_type": "markdown",
   "id": "bd30d78e",
   "metadata": {
    "id": "bd30d78e"
   },
   "source": [
    "En este caso no hay departamentos duplicados lo cual es correcto ya que a diferencia de DataFrames anteriores donde varios productos u ordenes podían pertenecer a los defirentes departamentos, en este caso se obtiene 0 ya que los departamentos no deberían estar duplicados en la base de datos, ya que además no hubo alguna necesidad de cambiar los departamentos a mayusculas o minusculas. "
   ]
  },
  {
   "cell_type": "markdown",
   "id": "889349c1",
   "metadata": {
    "id": "889349c1"
   },
   "source": [
    "### `aisles` data frame"
   ]
  },
  {
   "cell_type": "code",
   "execution_count": 19,
   "id": "9da89fb9-4679-40f5-ad0d-c34df753a3f8",
   "metadata": {
    "id": "9da89fb9-4679-40f5-ad0d-c34df753a3f8"
   },
   "outputs": [
    {
     "name": "stdout",
     "output_type": "stream",
     "text": [
      "0      False\n",
      "1      False\n",
      "2      False\n",
      "3      False\n",
      "4      False\n",
      "       ...  \n",
      "129    False\n",
      "130    False\n",
      "131    False\n",
      "132    False\n",
      "133    False\n",
      "Length: 134, dtype: bool\n",
      "0\n",
      "     aisle_id                       aisle\n",
      "0           1       prepared soups salads\n",
      "1           2           specialty cheeses\n",
      "2           3         energy granola bars\n",
      "3           4               instant foods\n",
      "4           5  marinades meat preparation\n",
      "..        ...                         ...\n",
      "129       130    hot cereal pancake mixes\n",
      "130       131                   dry pasta\n",
      "131       132                      beauty\n",
      "132       133  muscles joints pain relief\n",
      "133       134  specialty wines champagnes\n",
      "\n",
      "[134 rows x 2 columns]\n"
     ]
    }
   ],
   "source": [
    "print(df_aisles.duplicated())\n",
    "print(df_aisles.duplicated().sum())\n",
    "print(df_aisles)\n",
    "# Revisa si hay filas totalmente duplicadas"
   ]
  },
  {
   "cell_type": "code",
   "execution_count": 20,
   "id": "da7c2822",
   "metadata": {
    "id": "da7c2822"
   },
   "outputs": [
    {
     "name": "stdout",
     "output_type": "stream",
     "text": [
      "0      False\n",
      "1      False\n",
      "2      False\n",
      "3      False\n",
      "4      False\n",
      "       ...  \n",
      "129    False\n",
      "130    False\n",
      "131    False\n",
      "132    False\n",
      "133    False\n",
      "Length: 134, dtype: bool\n",
      "0\n",
      "aisle_id  aisle                     \n",
      "1         prepared soups salads         1\n",
      "85        food storage                  1\n",
      "99        canned fruit applesauce       1\n",
      "98        juice nectars                 1\n",
      "97        baking supplies decor         1\n",
      "                                       ..\n",
      "40        dog food care                 1\n",
      "39        seafood counter               1\n",
      "38        frozen meals                  1\n",
      "37        ice cream ice                 1\n",
      "134       specialty wines champagnes    1\n",
      "Length: 134, dtype: int64\n",
      "['air fresheners candles' 'asian foods' 'baby accessories'\n",
      " 'baby bath body care' 'baby food formula' 'bakery desserts'\n",
      " 'baking ingredients' 'baking supplies decor' 'beauty' 'beers coolers'\n",
      " 'body lotions soap' 'bread' 'breakfast bakery' 'breakfast bars pastries'\n",
      " 'bulk dried fruits vegetables' 'bulk grains rice dried goods'\n",
      " 'buns rolls' 'butter' 'candy chocolate' 'canned fruit applesauce'\n",
      " 'canned jarred vegetables' 'canned meals beans' 'canned meat seafood'\n",
      " 'cat food care' 'cereal' 'chips pretzels' 'cleaning products'\n",
      " 'cocoa drink mixes' 'coffee' 'cold flu allergy' 'condiments'\n",
      " 'cookies cakes' 'crackers' 'cream' 'deodorants' 'diapers wipes'\n",
      " 'digestion' 'dish detergents' 'dog food care'\n",
      " 'doughs gelatins bake mixes' 'dry pasta' 'eggs' 'energy granola bars'\n",
      " 'energy sports drinks' 'eye ear care' 'facial care' 'feminine care'\n",
      " 'first aid' 'food storage' 'fresh dips tapenades' 'fresh fruits'\n",
      " 'fresh herbs' 'fresh pasta' 'fresh vegetables' 'frozen appetizers sides'\n",
      " 'frozen breads doughs' 'frozen breakfast' 'frozen dessert' 'frozen juice'\n",
      " 'frozen meals' 'frozen meat seafood' 'frozen pizza' 'frozen produce'\n",
      " 'frozen vegan vegetarian' 'fruit vegetable snacks'\n",
      " 'grains rice dried goods' 'granola' 'hair care' 'honeys syrups nectars'\n",
      " 'hot cereal pancake mixes' 'hot dogs bacon sausage' 'ice cream ice'\n",
      " 'ice cream toppings' 'indian foods' 'instant foods' 'juice nectars'\n",
      " 'kitchen supplies' 'kosher foods' 'latino foods' 'laundry' 'lunch meat'\n",
      " 'marinades meat preparation' 'meat counter' 'milk' 'mint gum' 'missing'\n",
      " 'more household' 'muscles joints pain relief' 'nuts seeds dried fruit'\n",
      " 'oils vinegars' 'oral hygiene' 'other' 'other creams cheeses'\n",
      " 'packaged cheese' 'packaged meat' 'packaged poultry' 'packaged produce'\n",
      " 'packaged seafood' 'packaged vegetables fruits' 'paper goods'\n",
      " 'pasta sauce' 'pickled goods olives' 'plates bowls cups flatware'\n",
      " 'popcorn jerky' 'poultry counter' 'prepared meals'\n",
      " 'prepared soups salads' 'preserved dips spreads'\n",
      " 'protein meal replacements' 'red wines' 'refrigerated'\n",
      " 'refrigerated pudding desserts' 'salad dressing toppings'\n",
      " 'seafood counter' 'shave needs' 'skin care' 'soap' 'soft drinks'\n",
      " 'soup broth bouillon' 'soy lactosefree' 'specialty cheeses'\n",
      " 'specialty wines champagnes' 'spices seasonings' 'spirits' 'spreads'\n",
      " 'tea' 'tofu meat alternatives' 'tortillas flat bread'\n",
      " 'trail mix snack mix' 'trash bags liners' 'vitamins supplements'\n",
      " 'water seltzer sparkling water' 'white wines' 'yogurt']\n"
     ]
    }
   ],
   "source": [
    "df_aisles['aisle'].str.lower()\n",
    "print(df_aisles.duplicated('aisle'))\n",
    "print(df_aisles.duplicated('aisle').sum())\n",
    "print(df_aisles.value_counts())\n",
    "print(df_aisles['aisle'].sort_values().unique())\n",
    "\n",
    "# Revisa únicamente si hay IDs duplicadas de productos"
   ]
  },
  {
   "cell_type": "markdown",
   "id": "ac63826f",
   "metadata": {
    "id": "ac63826f"
   },
   "source": [
    "Igualmente en este DataFrame no se hallaron duplicados, siendo que se pasaron todos los datos a minusculas para confirmar si no existian errores haciendo lo mismo manualmente con el metodo unique()"
   ]
  },
  {
   "cell_type": "markdown",
   "id": "274cd06a",
   "metadata": {
    "id": "274cd06a"
   },
   "source": [
    "### `order_products` data frame"
   ]
  },
  {
   "cell_type": "code",
   "execution_count": 21,
   "id": "52326689-84a8-4b8f-a881-7c68780f62c9",
   "metadata": {
    "id": "52326689-84a8-4b8f-a881-7c68780f62c9"
   },
   "outputs": [
    {
     "name": "stdout",
     "output_type": "stream",
     "text": [
      "0          False\n",
      "1          False\n",
      "2          False\n",
      "3          False\n",
      "4          False\n",
      "           ...  \n",
      "4545002    False\n",
      "4545003    False\n",
      "4545004    False\n",
      "4545005    False\n",
      "4545006    False\n",
      "Length: 4545007, dtype: bool\n",
      "0\n",
      "         order_id  product_id  add_to_cart_order  reordered\n",
      "0         2141543       11440               17.0          0\n",
      "1          567889        1560                1.0          1\n",
      "2         2261212       26683                1.0          1\n",
      "3          491251        8670               35.0          1\n",
      "4         2571142        1940                5.0          1\n",
      "...           ...         ...                ...        ...\n",
      "4545002    577211       15290               12.0          1\n",
      "4545003   1219554       21914                9.0          0\n",
      "4545004    692640       47766                4.0          1\n",
      "4545005    319435         691                8.0          1\n",
      "4545006   1398151       28733                9.0          0\n",
      "\n",
      "[4545007 rows x 4 columns]\n"
     ]
    }
   ],
   "source": [
    "print(df_order_products.duplicated())\n",
    "print(df_order_products.duplicated().sum())\n",
    "print(df_order_products)\n",
    "# Revisa si hay filas totalmente duplicadas\n"
   ]
  },
  {
   "cell_type": "code",
   "execution_count": 22,
   "id": "7b861391",
   "metadata": {
    "id": "7b861391"
   },
   "outputs": [
    {
     "name": "stdout",
     "output_type": "stream",
     "text": [
      "0          False\n",
      "1          False\n",
      "2          False\n",
      "3          False\n",
      "4          False\n",
      "           ...  \n",
      "4545002     True\n",
      "4545003     True\n",
      "4545004     True\n",
      "4545005     True\n",
      "4545006     True\n",
      "Length: 4545007, dtype: bool\n",
      "\n",
      "4094961\n",
      "\n",
      "61355      127\n",
      "3308010    115\n",
      "2136777    108\n",
      "171934     104\n",
      "1959075     98\n",
      "          ... \n",
      "54659        1\n",
      "210431       1\n",
      "1717983      1\n",
      "1136563      1\n",
      "8196         1\n",
      "Name: order_id, Length: 450046, dtype: int64\n",
      "         order_id  product_id  add_to_cart_order  reordered\n",
      "57981       61355        5322                NaN          0\n",
      "149404      61355       39475               45.0          0\n",
      "247893      61355        8594                NaN          0\n",
      "269840      61355       14233                5.0          0\n",
      "345399      61355       24010               51.0          0\n",
      "...           ...         ...                ...        ...\n",
      "4426514     61355       29270               15.0          0\n",
      "4482168     61355       24964               33.0          0\n",
      "4515077     61355        6760               27.0          0\n",
      "4521208     61355       16262               62.0          0\n",
      "4525165     61355       24561               54.0          0\n",
      "\n",
      "[127 rows x 4 columns]\n"
     ]
    }
   ],
   "source": [
    "# Vuelve a verificar si hay cualquier otro duplicado engañoso\n",
    "print(df_order_products.duplicated('order_id')) \n",
    "print()\n",
    "print(df_order_products.duplicated('order_id').sum())\n",
    "print()\n",
    "print(df_order_products['order_id'].value_counts())\n",
    "print(df_order_products[(df_order_products[\"order_id\"] == 61355)]) #se toma 61355 como muestra para verificar los datos de los duplicados\n"
   ]
  },
  {
   "cell_type": "markdown",
   "id": "0b890492",
   "metadata": {
    "id": "0b890492"
   },
   "source": [
    "En este caso los duplicados no tendrían que ser elimindos, debido a que si bien hay valores repetidos en una columna a diferencia de duplicados anteriores donde la eliminación no afectaba la información dada, en este caso cada duplicado de la columna 'order_id' contiene información única importante para el el análisis, siendo que en tod caso, aquí se deberían eliminar los valorea ausentes,a para una mejor comprensión de los datos. "
   ]
  },
  {
   "cell_type": "markdown",
   "id": "1e46de76",
   "metadata": {
    "id": "1e46de76"
   },
   "source": [
    "## Encuentra y elimina los valores ausentes\n",
    "\n",
    "Al trabajar con valores duplicados, pudimos observar que también nos falta investigar valores ausentes:\n",
    "\n",
    "* La columna `'product_name'` de la tabla products.\n",
    "* La columna `'days_since_prior_order'` de la tabla orders.\n",
    "* La columna `'add_to_cart_order'` de la tabla order_productos."
   ]
  },
  {
   "cell_type": "markdown",
   "id": "c0aebd78",
   "metadata": {
    "id": "c0aebd78"
   },
   "source": [
    "### `products` data frame"
   ]
  },
  {
   "cell_type": "code",
   "execution_count": 23,
   "id": "fe4a8b0f",
   "metadata": {
    "id": "fe4a8b0f"
   },
   "outputs": [
    {
     "name": "stdout",
     "output_type": "stream",
     "text": [
      "<class 'pandas.core.frame.DataFrame'>\n",
      "RangeIndex: 49694 entries, 0 to 49693\n",
      "Data columns (total 4 columns):\n",
      " #   Column         Non-Null Count  Dtype \n",
      "---  ------         --------------  ----- \n",
      " 0   product_id     49694 non-null  int64 \n",
      " 1   product_name   48436 non-null  object\n",
      " 2   aisle_id       49694 non-null  int64 \n",
      " 3   department_id  49694 non-null  int64 \n",
      "dtypes: int64(3), object(1)\n",
      "memory usage: 1.5+ MB\n",
      "0        False\n",
      "1        False\n",
      "2        False\n",
      "3        False\n",
      "4        False\n",
      "         ...  \n",
      "49689    False\n",
      "49690    False\n",
      "49691    False\n",
      "49692    False\n",
      "49693    False\n",
      "Name: product_name, Length: 49694, dtype: bool\n",
      "1258\n"
     ]
    }
   ],
   "source": [
    "# Encuentra los valores ausentes en la columna 'product_name' \n",
    "df_products.info()\n",
    "print(df_products['product_name'].isna())\n",
    "print(df_products['product_name'].isna().sum())"
   ]
  },
  {
   "cell_type": "markdown",
   "id": "-A6x1AbJhjkp",
   "metadata": {
    "id": "-A6x1AbJhjkp"
   },
   "source": [
    "Observamos 1258 prodcutos nulos de un total de 49693, sin embargo los datos nulos se hallan solo en la coolumna 'product_name', basandonos en esto podemos deducir que por la cantidad de datos los valores ausentes no afectarían a los resultados finales, además de tener en cuenta que son variables categóricas lo que no haría posible reemplazarlas por una media o mediana de los demás datos. "
   ]
  },
  {
   "cell_type": "code",
   "execution_count": 24,
   "id": "e96167bc",
   "metadata": {
    "id": "e96167bc"
   },
   "outputs": [
    {
     "name": "stdout",
     "output_type": "stream",
     "text": [
      "1258\n"
     ]
    }
   ],
   "source": [
    "#  ¿Todos los nombres de productos ausentes están relacionados con el pasillo con ID 100?\n",
    "\n",
    "id_100 = (df_products['product_name'].isna() & (df_products['aisle_id'] == 100))\n",
    "\n",
    "print(id_100.sum())"
   ]
  },
  {
   "cell_type": "markdown",
   "id": "WRpIfXRphpSL",
   "metadata": {
    "id": "WRpIfXRphpSL"
   },
   "source": [
    "Al ver los hallazgos de este caso al sumar los valores que cumplian con ambas condiciones vemos que los 1258 valores ausentes se encuentran dentro de este pasillo al cumplir todos con las condiciones del filtrado. "
   ]
  },
  {
   "cell_type": "code",
   "execution_count": 25,
   "id": "8fd0a541",
   "metadata": {
    "id": "8fd0a541"
   },
   "outputs": [
    {
     "name": "stdout",
     "output_type": "stream",
     "text": [
      "1258\n"
     ]
    }
   ],
   "source": [
    "# ¿Todos los nombres de productos ausentes están relacionados con el departamento con ID 21?\n",
    "id_21= (df_products['product_name'].isna() & (df_products['department_id'] == 21))\n",
    "\n",
    "print(id_21.sum())"
   ]
  },
  {
   "cell_type": "markdown",
   "id": "qDpdYn1Fht_I",
   "metadata": {
    "id": "qDpdYn1Fht_I"
   },
   "source": [
    " En este caso vemos que al ser el total 1258, parece existir relación entre los valores ausentes con el pasillo al encontrarse además esta misma cantidad de valores ausentes en el pasillo 100. "
   ]
  },
  {
   "cell_type": "code",
   "execution_count": 26,
   "id": "325c3464",
   "metadata": {
    "id": "325c3464"
   },
   "outputs": [
    {
     "name": "stdout",
     "output_type": "stream",
     "text": [
      "       product_id product_name  aisle_id  department_id\n",
      "37             38          NaN       100             21\n",
      "71             72          NaN       100             21\n",
      "109           110          NaN       100             21\n",
      "296           297          NaN       100             21\n",
      "416           417          NaN       100             21\n",
      "...           ...          ...       ...            ...\n",
      "49552       49553          NaN       100             21\n",
      "49574       49575          NaN       100             21\n",
      "49640       49641          NaN       100             21\n",
      "49663       49664          NaN       100             21\n",
      "49668       49669          NaN       100             21\n",
      "\n",
      "[1258 rows x 4 columns]\n"
     ]
    }
   ],
   "source": [
    "# Usa las tablas department y aisle para revisar los datos del pasillo con ID 100 y el departamento con ID 21.\n",
    "id_100_21 = []\n",
    "id_100_21 = df_products[((df_products['aisle_id']==100) & (df_products['product_name'].isna())) & ((df_products['department_id']==21) & (df_products['product_name'].isna()))]\n",
    "print(id_100_21)"
   ]
  },
  {
   "cell_type": "markdown",
   "id": "nqhSTUPhhvEJ",
   "metadata": {
    "id": "nqhSTUPhhvEJ"
   },
   "source": [
    "En este caso podemos ver que efectivamente los valores ausentes son aquellos dados en el pasillo 100 y el departamento 21, aquí observamos que estos valores ausentes pueden deberse a un error de regsitro, pero siendo que estos valores ausentes tienen datos de productos pueden ser reemplazados con la string alterna que indique que estos prodcutos no se hallaron. "
   ]
  },
  {
   "cell_type": "code",
   "execution_count": 27,
   "id": "6b295120",
   "metadata": {
    "id": "6b295120"
   },
   "outputs": [
    {
     "name": "stdout",
     "output_type": "stream",
     "text": [
      "0\n",
      "       product_id product_name  aisle_id  department_id\n",
      "37             38      Unknown       100             21\n",
      "71             72      Unknown       100             21\n",
      "109           110      Unknown       100             21\n",
      "296           297      Unknown       100             21\n",
      "416           417      Unknown       100             21\n",
      "...           ...          ...       ...            ...\n",
      "49552       49553      Unknown       100             21\n",
      "49574       49575      Unknown       100             21\n",
      "49640       49641      Unknown       100             21\n",
      "49663       49664      Unknown       100             21\n",
      "49668       49669      Unknown       100             21\n",
      "\n",
      "[1258 rows x 4 columns]\n"
     ]
    }
   ],
   "source": [
    "# Completa los nombres de productos ausentes con 'Unknown'\n",
    "df_products['product_name'].fillna('Unknown', inplace=True)\n",
    "\n",
    "print(df_products['product_name'].isna().sum())\n",
    "print(df_products[(df_products['aisle_id']==100)  & (df_products['department_id']==21)])"
   ]
  },
  {
   "cell_type": "markdown",
   "id": "7eb45c86",
   "metadata": {
    "id": "7eb45c86"
   },
   "source": [
    "### `orders` data frame"
   ]
  },
  {
   "cell_type": "code",
   "execution_count": 28,
   "id": "93e41d96",
   "metadata": {
    "id": "93e41d96"
   },
   "outputs": [
    {
     "name": "stdout",
     "output_type": "stream",
     "text": [
      "<class 'pandas.core.frame.DataFrame'>\n",
      "Int64Index: 478952 entries, 0 to 478966\n",
      "Data columns (total 6 columns):\n",
      " #   Column                  Non-Null Count   Dtype  \n",
      "---  ------                  --------------   -----  \n",
      " 0   order_id                478952 non-null  int64  \n",
      " 1   user_id                 478952 non-null  int64  \n",
      " 2   order_number            478952 non-null  int64  \n",
      " 3   order_dow               478952 non-null  int64  \n",
      " 4   order_hour_of_day       478952 non-null  int64  \n",
      " 5   days_since_prior_order  450135 non-null  float64\n",
      "dtypes: float64(1), int64(5)\n",
      "memory usage: 25.6 MB\n",
      "        order_id  user_id  order_number  order_dow  order_hour_of_day  \\\n",
      "0          False    False         False      False              False   \n",
      "1          False    False         False      False              False   \n",
      "2          False    False         False      False              False   \n",
      "3          False    False         False      False              False   \n",
      "4          False    False         False      False              False   \n",
      "...          ...      ...           ...        ...                ...   \n",
      "478962     False    False         False      False              False   \n",
      "478963     False    False         False      False              False   \n",
      "478964     False    False         False      False              False   \n",
      "478965     False    False         False      False              False   \n",
      "478966     False    False         False      False              False   \n",
      "\n",
      "        days_since_prior_order  \n",
      "0                        False  \n",
      "1                        False  \n",
      "2                        False  \n",
      "3                        False  \n",
      "4                        False  \n",
      "...                        ...  \n",
      "478962                   False  \n",
      "478963                   False  \n",
      "478964                   False  \n",
      "478965                   False  \n",
      "478966                   False  \n",
      "\n",
      "[478952 rows x 6 columns]\n",
      "order_id                      0\n",
      "user_id                       0\n",
      "order_number                  0\n",
      "order_dow                     0\n",
      "order_hour_of_day             0\n",
      "days_since_prior_order    28817\n",
      "dtype: int64\n"
     ]
    }
   ],
   "source": [
    "# Encuentra los valores ausentes\n",
    "df_orders.info()\n",
    "print(df_orders.isna())\n",
    "print(df_orders.isna().sum())"
   ]
  },
  {
   "cell_type": "code",
   "execution_count": 29,
   "id": "166e5a86",
   "metadata": {
    "id": "166e5a86"
   },
   "outputs": [
    {
     "name": "stdout",
     "output_type": "stream",
     "text": [
      "0\n"
     ]
    }
   ],
   "source": [
    "# ¿Hay algún valor ausente que no sea el primer pedido del cliente?\n",
    "nan_value = (df_orders['days_since_prior_order'].isna() & (df_orders['days_since_prior_order'] == 1))\n",
    "print(nan_value.sum())"
   ]
  },
  {
   "cell_type": "markdown",
   "id": "4e23d089",
   "metadata": {
    "id": "4e23d089"
   },
   "source": [
    "Para este caso vemos que si bien el análisis inicial detecto los valores como ausentes vemos que en este caso al tener un código de 1 y 0, se detectaron los ceros como ausentes, pero la realidadad es que los valores cero solo reflejan una condición del pedido, por lo que para este caso podemos que este Datafarame no tiene en realidad valores ausentes. "
   ]
  },
  {
   "cell_type": "markdown",
   "id": "69dc9ca4",
   "metadata": {
    "id": "69dc9ca4"
   },
   "source": [
    "### `order_products` data frame"
   ]
  },
  {
   "cell_type": "code",
   "execution_count": 30,
   "id": "b8240253",
   "metadata": {
    "id": "b8240253"
   },
   "outputs": [
    {
     "name": "stdout",
     "output_type": "stream",
     "text": [
      "<class 'pandas.core.frame.DataFrame'>\n",
      "RangeIndex: 4545007 entries, 0 to 4545006\n",
      "Data columns (total 4 columns):\n",
      " #   Column             Dtype  \n",
      "---  ------             -----  \n",
      " 0   order_id           int64  \n",
      " 1   product_id         int64  \n",
      " 2   add_to_cart_order  float64\n",
      " 3   reordered          int64  \n",
      "dtypes: float64(1), int64(3)\n",
      "memory usage: 138.7 MB\n",
      "         order_id  product_id  add_to_cart_order  reordered\n",
      "0           False       False              False      False\n",
      "1           False       False              False      False\n",
      "2           False       False              False      False\n",
      "3           False       False              False      False\n",
      "4           False       False              False      False\n",
      "...           ...         ...                ...        ...\n",
      "4545002     False       False              False      False\n",
      "4545003     False       False              False      False\n",
      "4545004     False       False              False      False\n",
      "4545005     False       False              False      False\n",
      "4545006     False       False              False      False\n",
      "\n",
      "[4545007 rows x 4 columns]\n",
      "\n",
      "order_id               0\n",
      "product_id             0\n",
      "add_to_cart_order    836\n",
      "reordered              0\n",
      "dtype: int64\n",
      "\n",
      "         order_id  product_id  add_to_cart_order  reordered\n",
      "3668553   1924048          34                5.0          1\n",
      "894476     408137       12962               13.0          0\n",
      "2120804    568293       49098               21.0          0\n",
      "2864273   2913785       48440                1.0          1\n",
      "1053867   1694766       10227                5.0          0\n",
      "2475274   3383928       30776                3.0          0\n",
      "2504027     78287       19878               11.0          0\n",
      "3031797   2293577       31678                8.0          1\n",
      "2124889   1069398       32605               33.0          0\n",
      "972937    1207289       16867               25.0          1\n",
      "749145    1429371       38277                2.0          1\n",
      "3184444   2404579       22963               15.0          1\n",
      "3930650   2611509       26209                3.0          0\n",
      "4470466   1745225       21195                9.0          1\n",
      "50284     2533079       39993                4.0          1\n",
      "4262889      1534       49610                7.0          1\n",
      "2427918   3085148       10060               15.0          1\n",
      "1711362   2169660       41950                6.0          1\n",
      "1116818   1319202       48784               16.0          1\n",
      "3042981    873644       21903               16.0          0\n",
      "2980015    623542        2301               16.0          0\n",
      "3142549    964669       14211               14.0          1\n",
      "963370    2250023       16797                8.0          1\n",
      "2738962   1976410       29398               12.0          1\n",
      "4066444   2534964       36175               11.0          0\n",
      "2284889   1996257        7837                6.0          1\n",
      "4159908   1586211       29370                3.0          1\n",
      "803212     413845       46041                1.0          1\n",
      "4015461    961104        3434                7.0          0\n",
      "4236074    734225       31805                2.0          0\n",
      "3907199   1989650       10849                6.0          1\n",
      "3509625    792498       42093                9.0          1\n",
      "1129640   2892349       24852                1.0          1\n",
      "1767526    119110       35750               13.0          0\n",
      "4453925    459323       21019                8.0          1\n",
      "1726918   2428983        1322               16.0          0\n",
      "1845664   1425451       47000                3.0          1\n",
      "357767    1512530       35898                4.0          1\n",
      "465649    1323876       28849               29.0          1\n",
      "2047987   3183642       19816                6.0          1\n"
     ]
    }
   ],
   "source": [
    "df_order_products.info()\n",
    "print(df_order_products.isna())\n",
    "print()\n",
    "print(df_order_products.isna().sum())\n",
    "print() \n",
    "print(df_order_products.sample(40))\n",
    "# Encuentra los valores ausentes"
   ]
  },
  {
   "cell_type": "code",
   "execution_count": 31,
   "id": "9a78e5ee",
   "metadata": {
    "id": "9a78e5ee"
   },
   "outputs": [
    {
     "name": "stdout",
     "output_type": "stream",
     "text": [
      "1.0\n",
      "64.0\n"
     ]
    }
   ],
   "source": [
    "# ¿Cuáles son los valores mínimos y máximos en esta columna?\n",
    "print(df_order_products['add_to_cart_order'].min()) \n",
    "print(df_order_products['add_to_cart_order'].max())"
   ]
  },
  {
   "cell_type": "markdown",
   "id": "-Z2Ja215jW78",
   "metadata": {
    "id": "-Z2Ja215jW78"
   },
   "source": [
    "En este caso observamos que el mínimo es 1 el máximo 64, por lo cual a diferencia de otros dataframes donde teníamos valores ausentes que podían indicar algún dato, para esta ocasión no se puede aplicar dichos criterios a los valores ausentes ya que al no contener un cero se deben como valores ausentes buscando su eliminación o reemplazo según se vea en el caso. "
   ]
  },
  {
   "cell_type": "code",
   "execution_count": 32,
   "id": "ab9d0c2b",
   "metadata": {
    "id": "ab9d0c2b"
   },
   "outputs": [
    {
     "name": "stdout",
     "output_type": "stream",
     "text": [
      "737        2449164\n",
      "9926       1968313\n",
      "14394      2926893\n",
      "16418      1717990\n",
      "30114      1959075\n",
      "            ...   \n",
      "4505662    1800005\n",
      "4511400    1633337\n",
      "4517562     404157\n",
      "4534112    1673227\n",
      "4535739    1832957\n",
      "Name: order_id, Length: 836, dtype: int64\n"
     ]
    }
   ],
   "source": [
    "# Guarda todas las IDs de pedidos que tengan un valor ausente en 'add_to_cart_order'\n",
    "order_id_nan = df_order_products[df_order_products['add_to_cart_order'].isna()]['order_id']\n",
    "print(order_id_nan)"
   ]
  },
  {
   "cell_type": "code",
   "execution_count": 33,
   "id": "54c31695",
   "metadata": {
    "id": "54c31695"
   },
   "outputs": [
    {
     "name": "stdout",
     "output_type": "stream",
     "text": [
      "Primer filtrado\n",
      "         order_id  product_id  add_to_cart_order  reordered\n",
      "267       2094761       31469               57.0          1\n",
      "737       2449164        5068                NaN          0\n",
      "1742      2997021        4920               37.0          0\n",
      "3463       871281       40063               61.0          1\n",
      "3535       171934       36397                7.0          0\n",
      "...           ...         ...                ...        ...\n",
      "4543519   2621907       32018               28.0          1\n",
      "4544672    102236       34688               49.0          0\n",
      "4544708   2256933       41544               21.0          0\n",
      "4544771    180546       12741               46.0          1\n",
      "4544810   2136777       20072               10.0          0\n",
      "\n",
      "[5316 rows x 4 columns]\n",
      "***************\n",
      "Agrupar todos los pedidos con datos ausentes por su ID\n",
      "<pandas.core.groupby.generic.DataFrameGroupBy object at 0x7ff6210a3c70>\n",
      "***************\n",
      "Contar el número de product_id\n",
      "order_id\n",
      "9310        65\n",
      "61355      127\n",
      "102236      95\n",
      "129627      69\n",
      "165801      70\n",
      "          ... \n",
      "2999801     70\n",
      "3125735     86\n",
      "3308010    115\n",
      "3347453     71\n",
      "3383594     69\n",
      "Name: product_id, Length: 70, dtype: int64\n",
      "***************\n",
      "Revisar el valor mínimo del conteo\n",
      "65\n"
     ]
    }
   ],
   "source": [
    "# ¿Todos los pedidos con valores ausentes tienen más de 64 productos?\n",
    "# Agrupa todos los pedidos con datos ausentes por su ID de pedido.\n",
    "print('Primer filtrado')\n",
    "df_order_id_nan = df_order_products[df_order_products['order_id'].isin(order_id_nan)]\n",
    "print(df_order_id_nan)\n",
    "print ('***************')\n",
    "print('Agrupar todos los pedidos con datos ausentes por su ID')\n",
    "order_group = df_order_id_nan.groupby('order_id')\n",
    "print(order_group)\n",
    "print ('***************')\n",
    "# Cuenta el número de 'product_id' en cada pedido y revisa el valor mínimo del conteo.\n",
    "print('Contar el número de product_id')\n",
    "numero_product_id = ((order_group['product_id']).count())\n",
    "print(numero_product_id)\n",
    "print ('***************') \n",
    "print('Revisar el valor mínimo del conteo')\n",
    "print(numero_product_id.min())\n"
   ]
  },
  {
   "cell_type": "markdown",
   "id": "p9V6pddtjglj",
   "metadata": {
    "id": "p9V6pddtjglj"
   },
   "source": [
    "Observamos que el valor del minimo del conteo es 65, pro lo cual vemos que en efecto todos los pedidos con valores ausentes contienen más de 65 productos. "
   ]
  },
  {
   "cell_type": "code",
   "execution_count": 34,
   "id": "7a987d08",
   "metadata": {
    "id": "7a987d08"
   },
   "outputs": [
    {
     "name": "stdout",
     "output_type": "stream",
     "text": [
      "<class 'pandas.core.frame.DataFrame'>\n",
      "RangeIndex: 4545007 entries, 0 to 4545006\n",
      "Data columns (total 4 columns):\n",
      " #   Column             Dtype\n",
      "---  ------             -----\n",
      " 0   order_id           int64\n",
      " 1   product_id         int64\n",
      " 2   add_to_cart_order  int64\n",
      " 3   reordered          int64\n",
      "dtypes: int64(4)\n",
      "memory usage: 138.7 MB\n",
      "None\n"
     ]
    }
   ],
   "source": [
    "# Remplaza los valores ausentes en la columna 'add_to_cart? con 999 y convierte la columna al tipo entero.\n",
    "df_order_products['add_to_cart_order'].fillna(999,inplace=True)\n",
    "df_order_products['add_to_cart_order'] = df_order_products['add_to_cart_order'].astype(int)\n",
    "print(df_order_products.info())"
   ]
  },
  {
   "cell_type": "markdown",
   "id": "fea4bcc7",
   "metadata": {
    "id": "fea4bcc7"
   },
   "source": [
    "Se identificaron los valores ausentes, en este caso los productos tenían más productos que el valor máximo que es 64, siendo que estos valores ausentes no se pueden indetificar adecaudamente con una media, se reemplazan por 999 "
   ]
  },
  {
   "cell_type": "markdown",
   "id": "RnplPFY1gSrb",
   "metadata": {
    "id": "RnplPFY1gSrb"
   },
   "source": [
    "## Conclusiones\n",
    "\n",
    "Escribe aquí tus conclusiones intermedias sobre el Paso 2. Preprocesamiento de los datos\n",
    "En este caso vimos la importancia de revisar los valores ausentes y duplicados de los datos, siendo que el hecho de tenerlos no siempre indica que estos se deban directamente reemplazar o eliminar, como se pudo constar, había ocasiones sobre todo en los datos duplicados donde estos debían dejarse tal cual ya que representaban datos importantes, o bien según la organización del DataFrame estos no eran duplicados tal cual sino datos reales con información adicional. En el tema de los datos ausentes concluimos la importancia de tener herrameintas para lograr el método correcto de gestión de valores ausentes ya sea mediante el reemplazo o la eliminación directa, según se tenga una anaálisis que permita limpiar los datos sin perder información valiosa. "
   ]
  },
  {
   "cell_type": "markdown",
   "id": "UjrOIwTcz3ri",
   "metadata": {
    "id": "UjrOIwTcz3ri"
   },
   "source": [
    "# Paso 3. Análisis de los datos\n",
    "\n"
   ]
  },
  {
   "cell_type": "markdown",
   "id": "turkish-kidney",
   "metadata": {
    "id": "turkish-kidney"
   },
   "source": [
    "# Sección [A] \n",
    "\n",
    "1. Verificar que los valores en las columnas `'order_hour_of_day'` y `'order_dow'` en la tabla orders sean razonables (es decir, `'order_hour_of_day'` oscile entre 0 y 23 y `'order_dow'` oscile entre 0 y 6).\n",
    "2. Crea un gráfico que muestre el número de personas que hacen pedidos dependiendo de la hora del día.\n",
    "3. Crea un gráfico que muestre qué día de la semana la gente hace sus compras.\n",
    "4. Crea un gráfico que muestre el tiempo que la gente espera hasta hacer su siguiente pedido, y comenta sobre los valores mínimos y máximos."
   ]
  },
  {
   "cell_type": "markdown",
   "id": "short-capability",
   "metadata": {
    "id": "short-capability"
   },
   "source": [
    "### [A1] Verifica que los valores sean sensibles"
   ]
  },
  {
   "cell_type": "code",
   "execution_count": 35,
   "id": "growing-fruit",
   "metadata": {
    "id": "growing-fruit"
   },
   "outputs": [
    {
     "name": "stdout",
     "output_type": "stream",
     "text": [
      "6440484\n",
      "6440484\n"
     ]
    }
   ],
   "source": [
    "valor_razonable = (df_orders[(df_orders['order_hour_of_day'] >= 0) & (df_orders['order_hour_of_day'] <= 23)])\n",
    "print(valor_razonable['order_hour_of_day'].sum())\n",
    "print(df_orders['order_hour_of_day'].sum())"
   ]
  },
  {
   "cell_type": "code",
   "execution_count": 36,
   "id": "accessory-malaysia",
   "metadata": {
    "id": "accessory-malaysia"
   },
   "outputs": [
    {
     "name": "stdout",
     "output_type": "stream",
     "text": [
      "1329116\n",
      "1329116\n"
     ]
    }
   ],
   "source": [
    "valor_razonable2 = (df_orders[(df_orders['order_dow'] >= 0) & (df_orders['order_dow'] <= 6)])\n",
    "print(valor_razonable2['order_dow'].sum())\n",
    "print(df_orders['order_dow'].sum())"
   ]
  },
  {
   "cell_type": "markdown",
   "id": "hmR2GNQ6lCsX",
   "metadata": {
    "id": "hmR2GNQ6lCsX"
   },
   "source": [
    "Observamos que el número los campos de totales y filtrados cóincide por lo cual podemos concluir que todos los valores consultados dentro del DataFrame son razonables. "
   ]
  },
  {
   "cell_type": "markdown",
   "id": "a6743a70",
   "metadata": {
    "id": "a6743a70"
   },
   "source": [
    "### [A2] Para cada hora del día, ¿cuántas personas hacen órdenes?"
   ]
  },
  {
   "cell_type": "code",
   "execution_count": 37,
   "id": "a36cca27",
   "metadata": {
    "id": "a36cca27"
   },
   "outputs": [
    {
     "data": {
      "image/png": "[encoded data removed]",
      "text/plain": [
       "<Figure size 432x288 with 1 Axes>"
      ]
     },
     "metadata": {
      "needs_background": "light"
     },
     "output_type": "display_data"
    }
   ],
   "source": [
    " \n",
    "\n",
    "grafic_data= df_orders.groupby('order_hour_of_day')['order_id'].count()\n",
    "grafic_data.plot(xlabel= 'Hora',\n",
    "     ylabel= 'Cantidad de ordenes',\n",
    "     title ='Ordenes según hora del día',\n",
    "     grid=True)                                      \n",
    "                                      \n",
    "                                       \n",
    "                                       \n",
    "                                      \n",
    "\n",
    "\n",
    "plt.show()"
   ]
  },
  {
   "cell_type": "markdown",
   "id": "11270eed",
   "metadata": {
    "id": "11270eed"
   },
   "source": [
    "En el gráfico podemos observar que la hora donde más se realizan órdenes es a las 10.00 horas seguido de las 15.00 horas"
   ]
  },
  {
   "cell_type": "markdown",
   "id": "documented-command",
   "metadata": {
    "id": "documented-command"
   },
   "source": [
    "### [A3] ¿Qué día de la semana compran víveres las personas?"
   ]
  },
  {
   "cell_type": "code",
   "execution_count": 38,
   "id": "chief-digit",
   "metadata": {
    "id": "chief-digit"
   },
   "outputs": [
    {
     "data": {
      "image/png": "[encoded data removed]",
      "text/plain": [
       "<Figure size 432x288 with 1 Axes>"
      ]
     },
     "metadata": {
      "needs_background": "light"
     },
     "output_type": "display_data"
    }
   ],
   "source": [
    "hist = df_orders['order_dow'].plot(x='order_dow',y = 'order_number',title ='Ordenes según día de la semana',kind='hist')\n",
    "hist.set_xlabel('Día de la semana')\n",
    "hist.set_ylabel('Cantidad de órdenes') \n",
    "plt.show()"
   ]
  },
  {
   "cell_type": "markdown",
   "id": "dominant-lightning",
   "metadata": {
    "id": "dominant-lightning"
   },
   "source": [
    "Podemos observar que los días en los que más se piden víveres es domingo y lunes, siendo esto esperado pues es al inicio de la semana que se espera la gente se surta de víveres para el resto de la semana."
   ]
  },
  {
   "cell_type": "markdown",
   "id": "cutting-concert",
   "metadata": {
    "id": "cutting-concert"
   },
   "source": [
    "### [A4] ¿Cuánto tiempo esperan las personas hasta hacer otro pedido? Comenta sobre los valores mínimos y máximos."
   ]
  },
  {
   "cell_type": "code",
   "execution_count": 39,
   "id": "c231f523",
   "metadata": {
    "id": "c231f523"
   },
   "outputs": [
    {
     "data": {
      "image/png": "[encoded data removed]",
      "text/plain": [
       "<Figure size 432x288 with 1 Axes>"
      ]
     },
     "metadata": {
      "needs_background": "light"
     },
     "output_type": "display_data"
    }
   ],
   "source": [
    "df_days= df_orders.groupby('days_since_prior_order')['user_id'].count()\n",
    "df_days.plot(xlabel= 'Tiempo para realizar otro pedido',\n",
    "             ylabel= 'Cantidad de ordenes',\n",
    "             title ='Tiempo de espera para nuevos pedidos', \n",
    "             kind='bar')                                      \n",
    "                                      \n",
    "\n",
    "\n",
    "plt.show()"
   ]
  },
  {
   "cell_type": "markdown",
   "id": "discrete-vertex",
   "metadata": {
    "id": "discrete-vertex"
   },
   "source": [
    "La mayoría de las personas esperan hasta 30 días para realzar un nuevo pedido lo que indica que se tiene un consumo mensual regular, seguido de 7 días lo que indica un consumo msemanal, los valores mínimos son entre los 25 y 27 días lo que indica pedidos mensuales con menor frecuencia."
   ]
  },
  {
   "cell_type": "markdown",
   "id": "tight-staff",
   "metadata": {
    "id": "tight-staff"
   },
   "source": [
    "# Sección [B] \n",
    "\n",
    "1. ¿Existe alguna diferencia entre las distribuciones `'order_hour_of_day'` de los miércoles y los sábados? Traza gráficos de barra de `'order_hour_of_day'` para ambos días en la misma figura y describe las diferencias que observes.\n",
    "2. Grafica la distribución para el número de órdenes que hacen los clientes (es decir, cuántos clientes hicieron solo 1 pedido, cuántos hicieron 2, cuántos 3, y así sucesivamente...).\n",
    "3. ¿Cuáles son los 20 principales productos que se piden con más frecuencia (muestra su identificación y nombre)?"
   ]
  },
  {
   "cell_type": "markdown",
   "id": "packed-classic",
   "metadata": {
    "id": "packed-classic"
   },
   "source": [
    "### [B1] Diferencia entre miércoles y sábados para  `'order_hour_of_day'`. "
   ]
  },
  {
   "cell_type": "code",
   "execution_count": 40,
   "id": "d89b8403",
   "metadata": {
    "id": "d89b8403"
   },
   "outputs": [],
   "source": [
    "hour_day_data = df_orders[(df_orders['order_dow'] == 6) | (df_orders['order_dow']==3)]"
   ]
  },
  {
   "cell_type": "code",
   "execution_count": 41,
   "id": "94e54e8a",
   "metadata": {
    "id": "94e54e8a"
   },
   "outputs": [],
   "source": [
    "hour_day = hour_day_data.pivot_table(columns='order_dow',\n",
    "                                          values='order_id',\n",
    "                                          index='order_hour_of_day',\n",
    "                                          aggfunc= 'count')"
   ]
  },
  {
   "cell_type": "code",
   "execution_count": 42,
   "id": "797c90a8",
   "metadata": {
    "id": "797c90a8"
   },
   "outputs": [
    {
     "name": "stdout",
     "output_type": "stream",
     "text": [
      "order_dow             3     6\n",
      "order_hour_of_day            \n",
      "0                   373   464\n",
      "1                   215   254\n",
      "2                   106   177\n",
      "3                   101   125\n",
      "4                   108   118\n",
      "5                   170   161\n",
      "6                   643   451\n",
      "7                  1732  1619\n",
      "8                  3125  3246\n",
      "9                  4490  4311\n",
      "10                 5026  4919\n",
      "11                 5004  5116\n",
      "12                 4688  5132\n",
      "13                 4674  5323\n",
      "14                 4774  5375\n",
      "15                 5163  5188\n",
      "16                 4976  5029\n",
      "17                 4175  4295\n",
      "18                 3463  3338\n",
      "19                 2652  2610\n",
      "20                 1917  1847\n",
      "21                 1450  1473\n",
      "22                 1154  1185\n",
      "23                  718   893\n"
     ]
    }
   ],
   "source": [
    "print(hour_day)"
   ]
  },
  {
   "cell_type": "code",
   "execution_count": 43,
   "id": "35bcea30",
   "metadata": {
    "id": "35bcea30"
   },
   "outputs": [
    {
     "data": {
      "image/png": "[encoded data removed]",
      "text/plain": [
       "<Figure size 432x288 with 1 Axes>"
      ]
     },
     "metadata": {
      "needs_background": "light"
     },
     "output_type": "display_data"
    }
   ],
   "source": [
    "hour_day.plot(kind ='bar',\n",
    "             title = 'Diferencia entre miércoles y sábados',\n",
    "             xlabel= 'Hora del día',\n",
    "             ylabel= 'Número de órdenes')\n",
    "plt.legend(['Miércoles', 'Sábado'])\n",
    "plt.show()"
   ]
  },
  {
   "cell_type": "markdown",
   "id": "charitable-congo",
   "metadata": {
    "id": "charitable-congo"
   },
   "source": [
    "Observmos que los días miércoles y sábado por lo general siguen una misma tendencia, sin embargo entre las 12 y 14 horas vemos un aumento más o menos considerable los días sábado "
   ]
  },
  {
   "cell_type": "markdown",
   "id": "e3891143",
   "metadata": {
    "id": "e3891143"
   },
   "source": [
    "### [B2] ¿Cuál es la distribución para el número de pedidos por cliente?"
   ]
  },
  {
   "cell_type": "code",
   "execution_count": 44,
   "id": "d8c26c23",
   "metadata": {
    "id": "d8c26c23"
   },
   "outputs": [
    {
     "name": "stdout",
     "output_type": "stream",
     "text": [
      "user_id\n",
      "2         2\n",
      "4         2\n",
      "5         1\n",
      "6         2\n",
      "7         2\n",
      "         ..\n",
      "206203    1\n",
      "206206    7\n",
      "206207    5\n",
      "206208    9\n",
      "206209    2\n",
      "Name: order_id, Length: 157437, dtype: int64\n"
     ]
    }
   ],
   "source": [
    "pedidos_cliente = df_orders.groupby(by='user_id')['order_id'].count()\n",
    "print(pedidos_cliente)"
   ]
  },
  {
   "cell_type": "code",
   "execution_count": 45,
   "id": "00e69a66",
   "metadata": {
    "id": "00e69a66"
   },
   "outputs": [
    {
     "data": {
      "image/png": "[encoded data removed]",
      "text/plain": [
       "<Figure size 432x288 with 1 Axes>"
      ]
     },
     "metadata": {
      "needs_background": "light"
     },
     "output_type": "display_data"
    }
   ],
   "source": [
    "hist_pedidos = pedidos_cliente.plot(kind='hist',\n",
    "                     title= 'Distribución para el número de pedidos por cliente',\n",
    "                     bins = 50)\n",
    "hist_pedidos.set_xlabel('Número de pedidos')\n",
    "hist_pedidos.set_ylabel('Frecuencia')\n",
    "plt.show()"
   ]
  },
  {
   "cell_type": "markdown",
   "id": "d2eff7d5",
   "metadata": {
    "id": "d2eff7d5"
   },
   "source": [
    "Podemos ver que la distribución de pedidos es mayor en el primer rango de pedidos de los clientes, lo que indica la frecuencia de pedidos de los clientes positiva al estar con los valores atípicos a la derecha, siendo que la mayoría de los cientes realiza de 0a 3 pedidos"
   ]
  },
  {
   "cell_type": "markdown",
   "id": "54a0319c",
   "metadata": {
    "id": "54a0319c"
   },
   "source": [
    "### [B3] ¿Cuáles son los 20 productos más popular (ID y nombre)?"
   ]
  },
  {
   "cell_type": "code",
   "execution_count": 46,
   "id": "exterior-arizona",
   "metadata": {
    "id": "exterior-arizona",
    "scrolled": true
   },
   "outputs": [
    {
     "name": "stdout",
     "output_type": "stream",
     "text": [
      "    product_id  order_id  add_to_cart_order  reordered  product_name  \\\n",
      "0        24852     66050              66050      66050         66050   \n",
      "1        13176     53297              53297      53297         53297   \n",
      "2        21137     37039              37039      37039         37039   \n",
      "3        21903     33971              33971      33971         33971   \n",
      "4        47209     29773              29773      29773         29773   \n",
      "5        47766     24689              24689      24689         24689   \n",
      "6        47626     21495              21495      21495         21495   \n",
      "7        16797     20018              20018      20018         20018   \n",
      "8        26209     19690              19690      19690         19690   \n",
      "9        27845     19600              19600      19600         19600   \n",
      "10       27966     19197              19197      19197         19197   \n",
      "11       22935     15898              15898      15898         15898   \n",
      "12       24964     15292              15292      15292         15292   \n",
      "13       45007     14584              14584      14584         14584   \n",
      "14       39275     13879              13879      13879         13879   \n",
      "15       49683     13675              13675      13675         13675   \n",
      "16       28204     12544              12544      12544         12544   \n",
      "17        5876     12232              12232      12232         12232   \n",
      "18        8277     11993              11993      11993         11993   \n",
      "19       40706     11781              11781      11781         11781   \n",
      "\n",
      "    aisle_id  department_id  \n",
      "0      66050          66050  \n",
      "1      53297          53297  \n",
      "2      37039          37039  \n",
      "3      33971          33971  \n",
      "4      29773          29773  \n",
      "5      24689          24689  \n",
      "6      21495          21495  \n",
      "7      20018          20018  \n",
      "8      19690          19690  \n",
      "9      19600          19600  \n",
      "10     19197          19197  \n",
      "11     15898          15898  \n",
      "12     15292          15292  \n",
      "13     14584          14584  \n",
      "14     13879          13879  \n",
      "15     13675          13675  \n",
      "16     12544          12544  \n",
      "17     12232          12232  \n",
      "18     11993          11993  \n",
      "19     11781          11781  \n"
     ]
    }
   ],
   "source": [
    "df_merge = df_order_products.merge(df_products, how ='inner', on = 'product_id')\n",
    "products = df_merge.groupby('product_id').count().sort_values(by = 'product_name', ascending = False).head(20)\n",
    "product_id = products.reset_index()\n",
    "print(product_id)"
   ]
  },
  {
   "cell_type": "code",
   "execution_count": 47,
   "id": "universal-facial",
   "metadata": {
    "id": "universal-facial"
   },
   "outputs": [
    {
     "name": "stdout",
     "output_type": "stream",
     "text": [
      "                product_name  order_id  product_id  add_to_cart_order  \\\n",
      "0                     Banana     66050       66050              66050   \n",
      "1     Bag of Organic Bananas     53297       53297              53297   \n",
      "2       Organic Strawberries     37039       37039              37039   \n",
      "3       Organic Baby Spinach     33971       33971              33971   \n",
      "4       Organic Hass Avocado     29773       29773              29773   \n",
      "5            Organic Avocado     24689       24689              24689   \n",
      "6                Large Lemon     21495       21495              21495   \n",
      "7               Strawberries     20018       20018              20018   \n",
      "8                      Limes     19690       19690              19690   \n",
      "9         Organic Whole Milk     19600       19600              19600   \n",
      "10       Organic Raspberries     19197       19197              19197   \n",
      "11      Organic Yellow Onion     15898       15898              15898   \n",
      "12            Organic Garlic     15292       15292              15292   \n",
      "13          Organic Zucchini     14584       14584              14584   \n",
      "14       Organic Blueberries     13879       13879              13879   \n",
      "15            Cucumber Kirby     13675       13675              13675   \n",
      "16        Organic Fuji Apple     12544       12544              12544   \n",
      "17             Organic Lemon     12232       12232              12232   \n",
      "18  Apple Honeycrisp Organic     11993       11993              11993   \n",
      "19    Organic Grape Tomatoes     11781       11781              11781   \n",
      "\n",
      "    reordered  aisle_id  department_id  \n",
      "0       66050     66050          66050  \n",
      "1       53297     53297          53297  \n",
      "2       37039     37039          37039  \n",
      "3       33971     33971          33971  \n",
      "4       29773     29773          29773  \n",
      "5       24689     24689          24689  \n",
      "6       21495     21495          21495  \n",
      "7       20018     20018          20018  \n",
      "8       19690     19690          19690  \n",
      "9       19600     19600          19600  \n",
      "10      19197     19197          19197  \n",
      "11      15898     15898          15898  \n",
      "12      15292     15292          15292  \n",
      "13      14584     14584          14584  \n",
      "14      13879     13879          13879  \n",
      "15      13675     13675          13675  \n",
      "16      12544     12544          12544  \n",
      "17      12232     12232          12232  \n",
      "18      11993     11993          11993  \n",
      "19      11781     11781          11781  \n"
     ]
    }
   ],
   "source": [
    "df_merge2 = df_order_products.merge(df_products, how = 'inner', on = 'product_id')\n",
    "_id = df_merge2.groupby('product_name').count().sort_values(by = 'product_id', ascending = False).head(20)\n",
    "product_name = _id.reset_index()\n",
    "print(product_name)"
   ]
  },
  {
   "cell_type": "code",
   "execution_count": 48,
   "id": "bbcdd20b",
   "metadata": {
    "id": "bbcdd20b"
   },
   "outputs": [
    {
     "name": "stdout",
     "output_type": "stream",
     "text": [
      "    product_id              product_name\n",
      "0        24852                    Banana\n",
      "1        13176    Bag of Organic Bananas\n",
      "2        21137      Organic Strawberries\n",
      "3        21903      Organic Baby Spinach\n",
      "4        47209      Organic Hass Avocado\n",
      "5        47766           Organic Avocado\n",
      "6        47626               Large Lemon\n",
      "7        16797              Strawberries\n",
      "8        26209                     Limes\n",
      "9        27845        Organic Whole Milk\n",
      "10       27966       Organic Raspberries\n",
      "11       22935      Organic Yellow Onion\n",
      "12       24964            Organic Garlic\n",
      "13       45007          Organic Zucchini\n",
      "14       39275       Organic Blueberries\n",
      "15       49683            Cucumber Kirby\n",
      "16       28204        Organic Fuji Apple\n",
      "17        5876             Organic Lemon\n",
      "18        8277  Apple Honeycrisp Organic\n",
      "19       40706    Organic Grape Tomatoes\n"
     ]
    }
   ],
   "source": [
    "df_concat = pd.concat([product_id['product_id'],product_name['product_name']], axis='columns')\n",
    "print(df_concat)"
   ]
  },
  {
   "cell_type": "markdown",
   "id": "7df00f47",
   "metadata": {
    "id": "7df00f47"
   },
   "source": [
    "En este ejercicio se observa que los productos más pedidos son principalmente frutas o productos perecederos, siendo la leche orgánica el único alimento empaquetado y procesado. "
   ]
  },
  {
   "cell_type": "markdown",
   "id": "gross-theme",
   "metadata": {
    "id": "gross-theme"
   },
   "source": [
    "# Sección [C] \n",
    "\n",
    "1. ¿Cuántos artículos suelen comprar las personas en un pedido? ¿Cómo es la distribución?\n",
    "2. ¿Cuáles son los 20 principales artículos que vuelven a pedirse con mayor frecuencia (muestra sus nombres e IDs de los productos)?\n",
    "3. Para cada producto, ¿cuál es la tasa de repetición del pedido (número de repeticiones de pedido/total de pedidos?\n",
    "4. Para cada cliente, ¿qué proporción de los productos que pidió ya los había pedido? Calcula la tasa de repetición de pedido para cada usuario en lugar de para cada producto.\n",
    "5. ¿Cuáles son los 20 principales artículos que la gente pone primero en sus carritos (muestra las IDs de los productos, sus nombres, y el número de veces en que fueron el primer artículo en añadirse al carrito)?"
   ]
  },
  {
   "cell_type": "markdown",
   "id": "romantic-deposit",
   "metadata": {
    "id": "romantic-deposit"
   },
   "source": [
    "### [C1] ¿Cuántos artículos compran normalmente las personas en un pedido? ¿Cómo es la distribución?"
   ]
  },
  {
   "cell_type": "code",
   "execution_count": 49,
   "id": "virtual-punch",
   "metadata": {
    "id": "virtual-punch"
   },
   "outputs": [],
   "source": [
    "df_articulos = df_order_products.groupby('order_id')"
   ]
  },
  {
   "cell_type": "code",
   "execution_count": 50,
   "id": "sensitive-breathing",
   "metadata": {
    "id": "sensitive-breathing"
   },
   "outputs": [
    {
     "name": "stdout",
     "output_type": "stream",
     "text": [
      "          product_id  add_to_cart_order  reordered\n",
      "order_id                                          \n",
      "4                 13                 13         13\n",
      "9                 15                 15         15\n",
      "11                 5                  5          5\n",
      "19                 3                  3          3\n",
      "20                 8                  8          8\n",
      "...              ...                ...        ...\n",
      "3421034           17                 17         17\n",
      "3421053            9                  9          9\n",
      "3421071            5                  5          5\n",
      "3421077            4                  4          4\n",
      "3421079            1                  1          1\n",
      "\n",
      "[450046 rows x 3 columns]\n",
      "product_id           10.098983\n",
      "add_to_cart_order    10.098983\n",
      "reordered            10.098983\n",
      "dtype: float64\n"
     ]
    }
   ],
   "source": [
    "df_art_por_pedido = df_articulos.count()\n",
    "print(df_art_por_pedido) \n",
    "print(df_art_por_pedido.mean())"
   ]
  },
  {
   "cell_type": "code",
   "execution_count": 51,
   "id": "completed-frank",
   "metadata": {
    "id": "completed-frank"
   },
   "outputs": [
    {
     "data": {
      "image/png": "[encoded data removed]",
      "text/plain": [
       "<Figure size 432x288 with 1 Axes>"
      ]
     },
     "metadata": {
      "needs_background": "light"
     },
     "output_type": "display_data"
    }
   ],
   "source": [
    "hist_artículos = df_art_por_pedido['product_id'].plot(kind='hist',\n",
    "                                      bins= 10,\n",
    "                                     title='Artículos por pedido',\n",
    "                                     ) \n",
    "hist_artículos.set_xlabel('Cantidad de artículos pedidos')\n",
    "hist_artículos.set_ylabel('Frecuencia')\n",
    "plt.show()"
   ]
  },
  {
   "cell_type": "markdown",
   "id": "designed-mortality",
   "metadata": {
    "id": "designed-mortality"
   },
   "source": [
    " Vemos que las personas normalmente compran entre 0 y 10 artículos"
   ]
  },
  {
   "cell_type": "markdown",
   "id": "5e6b5537",
   "metadata": {
    "id": "5e6b5537"
   },
   "source": [
    "### [C2] ¿Cuáles son los 20 principales artículos que vuelven a pedirse con mayor frecuencia (muestra sus nombres e IDs de los productos)?"
   ]
  },
  {
   "cell_type": "code",
   "execution_count": 52,
   "id": "9374e55a",
   "metadata": {
    "id": "9374e55a"
   },
   "outputs": [
    {
     "name": "stdout",
     "output_type": "stream",
     "text": [
      "    product_id  order_id  add_to_cart_order  reordered  product_name  \\\n",
      "0        24852     66050              66050      66050         66050   \n",
      "1        13176     53297              53297      53297         53297   \n",
      "2        21137     37039              37039      37039         37039   \n",
      "3        21903     33971              33971      33971         33971   \n",
      "4        47209     29773              29773      29773         29773   \n",
      "5        47766     24689              24689      24689         24689   \n",
      "6        47626     21495              21495      21495         21495   \n",
      "7        16797     20018              20018      20018         20018   \n",
      "8        26209     19690              19690      19690         19690   \n",
      "9        27845     19600              19600      19600         19600   \n",
      "10       27966     19197              19197      19197         19197   \n",
      "11       22935     15898              15898      15898         15898   \n",
      "12       24964     15292              15292      15292         15292   \n",
      "13       45007     14584              14584      14584         14584   \n",
      "14       39275     13879              13879      13879         13879   \n",
      "15       49683     13675              13675      13675         13675   \n",
      "16       28204     12544              12544      12544         12544   \n",
      "17        5876     12232              12232      12232         12232   \n",
      "18        8277     11993              11993      11993         11993   \n",
      "19       40706     11781              11781      11781         11781   \n",
      "\n",
      "    aisle_id  department_id  \n",
      "0      66050          66050  \n",
      "1      53297          53297  \n",
      "2      37039          37039  \n",
      "3      33971          33971  \n",
      "4      29773          29773  \n",
      "5      24689          24689  \n",
      "6      21495          21495  \n",
      "7      20018          20018  \n",
      "8      19690          19690  \n",
      "9      19600          19600  \n",
      "10     19197          19197  \n",
      "11     15898          15898  \n",
      "12     15292          15292  \n",
      "13     14584          14584  \n",
      "14     13879          13879  \n",
      "15     13675          13675  \n",
      "16     12544          12544  \n",
      "17     12232          12232  \n",
      "18     11993          11993  \n",
      "19     11781          11781  \n"
     ]
    }
   ],
   "source": [
    "df_merge3 = df_order_products.merge(df_products, how ='inner', on = 'product_id')\n",
    "products2 = df_merge3.groupby('product_id').count().sort_values(by = 'product_name', ascending = False)\n",
    "productos_reorder = products.reset_index()\n",
    "print(productos_reorder)"
   ]
  },
  {
   "cell_type": "code",
   "execution_count": 53,
   "id": "possible-change",
   "metadata": {
    "id": "possible-change",
    "scrolled": true
   },
   "outputs": [
    {
     "name": "stdout",
     "output_type": "stream",
     "text": [
      "                              product_name  order_id  product_id  \\\n",
      "0                                   Banana     66050       66050   \n",
      "1                   Bag of Organic Bananas     53297       53297   \n",
      "2                     Organic Strawberries     37039       37039   \n",
      "3                     Organic Baby Spinach     33971       33971   \n",
      "4                     Organic Hass Avocado     29773       29773   \n",
      "...                                    ...       ...         ...   \n",
      "44609              Beef Broth 99% Fat Free         1           1   \n",
      "44610     Classic Hazelnut Flavoring Syrup         1           1   \n",
      "44611  Tomato Basil Penne Hamburger Helper         1           1   \n",
      "44612                 Classic Frankfurters         1           1   \n",
      "44613                        Heart Cookies         1           1   \n",
      "\n",
      "       add_to_cart_order  reordered  aisle_id  department_id  \n",
      "0                  66050      66050     66050          66050  \n",
      "1                  53297      53297     53297          53297  \n",
      "2                  37039      37039     37039          37039  \n",
      "3                  33971      33971     33971          33971  \n",
      "4                  29773      29773     29773          29773  \n",
      "...                  ...        ...       ...            ...  \n",
      "44609                  1          1         1              1  \n",
      "44610                  1          1         1              1  \n",
      "44611                  1          1         1              1  \n",
      "44612                  1          1         1              1  \n",
      "44613                  1          1         1              1  \n",
      "\n",
      "[44614 rows x 7 columns]\n"
     ]
    }
   ],
   "source": [
    "df_merge4 = df_order_products.merge(df_products, how = 'inner', on = 'product_id')\n",
    "id_2 = df_merge4.groupby('product_name').count().sort_values(by = 'product_id', ascending = False)\n",
    "reorder_id = id_2.reset_index()\n",
    "print(reorder_id)"
   ]
  },
  {
   "cell_type": "code",
   "execution_count": 54,
   "id": "professional-surfing",
   "metadata": {
    "id": "professional-surfing",
    "scrolled": true
   },
   "outputs": [
    {
     "name": "stdout",
     "output_type": "stream",
     "text": [
      "         product_id            product_name  reordered\n",
      "0           24852.0                  Banana          0\n",
      "1           13176.0  Bag of Organic Bananas          1\n",
      "2           21137.0    Organic Strawberries          1\n",
      "3           21903.0    Organic Baby Spinach          1\n",
      "4           47209.0    Organic Hass Avocado          1\n",
      "...             ...                     ...        ...\n",
      "4545002         NaN                     NaN          1\n",
      "4545003         NaN                     NaN          0\n",
      "4545004         NaN                     NaN          1\n",
      "4545005         NaN                     NaN          1\n",
      "4545006         NaN                     NaN          0\n",
      "\n",
      "[4545007 rows x 3 columns]\n"
     ]
    }
   ],
   "source": [
    "reorder_df = pd.concat([productos_reorder['product_id'],reorder_id['product_name'],df_order_products['reordered']], axis='columns')\n",
    "print(reorder_df)\n"
   ]
  },
  {
   "cell_type": "code",
   "execution_count": 55,
   "id": "48dd3658",
   "metadata": {
    "id": "48dd3658"
   },
   "outputs": [
    {
     "name": "stdout",
     "output_type": "stream",
     "text": [
      "    product_id                product_name  reordered\n",
      "1      13176.0      Bag of Organic Bananas          1\n",
      "2      21137.0        Organic Strawberries          1\n",
      "3      21903.0        Organic Baby Spinach          1\n",
      "4      47209.0        Organic Hass Avocado          1\n",
      "5      47766.0             Organic Avocado          1\n",
      "6      47626.0                 Large Lemon          1\n",
      "7      16797.0                Strawberries          1\n",
      "8      26209.0                       Limes          1\n",
      "9      27845.0          Organic Whole Milk          1\n",
      "10     27966.0         Organic Raspberries          1\n",
      "12     24964.0              Organic Garlic          1\n",
      "14     39275.0         Organic Blueberries          1\n",
      "15     49683.0              Cucumber Kirby          1\n",
      "16     28204.0          Organic Fuji Apple          1\n",
      "17      5876.0               Organic Lemon          1\n",
      "19     40706.0      Organic Grape Tomatoes          1\n",
      "20         NaN         Seedless Red Grapes          1\n",
      "22         NaN            Honeycrisp Apple          1\n",
      "26         NaN  Sparkling Water Grapefruit          1\n",
      "27         NaN               Yellow Onions          1\n"
     ]
    }
   ],
   "source": [
    "\n",
    "print(reorder_df[reorder_df['reordered'] == 1].head(20))"
   ]
  },
  {
   "cell_type": "markdown",
   "id": "80e70c74",
   "metadata": {
    "id": "80e70c74"
   },
   "source": [
    "En este caso vemos que los produtos más pedidos no son necesariamente los que se vuelven a pedir, siendo que la tendencia en este caso es volver a pedir prodcutos orgánicos, lo que nos indica una predilección por prodcutos orgánicos "
   ]
  },
  {
   "cell_type": "markdown",
   "id": "9d312b14",
   "metadata": {
    "id": "9d312b14"
   },
   "source": [
    "### [C3] Para cada producto, ¿cuál es la proporción de las veces que se pide y que se vuelve a pedir?"
   ]
  },
  {
   "cell_type": "code",
   "execution_count": 56,
   "id": "8ae9f4b1",
   "metadata": {
    "id": "8ae9f4b1"
   },
   "outputs": [],
   "source": [
    "df_productos = df_order_products.merge(df_products,how='inner', on='product_id')"
   ]
  },
  {
   "cell_type": "code",
   "execution_count": 57,
   "id": "103e7fe1",
   "metadata": {
    "id": "103e7fe1"
   },
   "outputs": [],
   "source": [
    "df_1 = df_productos.groupby(by = ['product_id','product_name']).mean().reset_index()"
   ]
  },
  {
   "cell_type": "code",
   "execution_count": 58,
   "id": "social-individual",
   "metadata": {
    "id": "social-individual"
   },
   "outputs": [
    {
     "name": "stdout",
     "output_type": "stream",
     "text": [
      "       product_id                                       product_name  \\\n",
      "0               1                         Chocolate Sandwich Cookies   \n",
      "1               2                                   All-Seasons Salt   \n",
      "2               3               Robust Golden Unsweetened Oolong Tea   \n",
      "3               4  Smart Ones Classic Favorites Mini Rigatoni Wit...   \n",
      "4               7                     Pure Coconut Water With Orange   \n",
      "...           ...                                                ...   \n",
      "45568       49690                      HIGH PERFORMANCE ENERGY DRINK   \n",
      "45569       49691                      ORIGINAL PANCAKE & WAFFLE MIX   \n",
      "45570       49692    ORGANIC INSTANT OATMEAL LIGHT MAPLE BROWN SUGAR   \n",
      "45571       49693                             SPRING WATER BODY WASH   \n",
      "45572       49694                            BURRITO- STEAK & CHEESE   \n",
      "\n",
      "       reordered  \n",
      "0       0.564286  \n",
      "1       0.000000  \n",
      "2       0.738095  \n",
      "3       0.510204  \n",
      "4       0.500000  \n",
      "...          ...  \n",
      "45568   0.800000  \n",
      "45569   0.430556  \n",
      "45570   0.416667  \n",
      "45571   0.440000  \n",
      "45572   0.333333  \n",
      "\n",
      "[45573 rows x 3 columns]\n",
      "reordered    0.386707\n",
      "dtype: float64\n"
     ]
    }
   ],
   "source": [
    "print(df_1[['product_id','product_name','reordered']])\n",
    "df_times= df_1[['reordered']]\n",
    "print(df_times.mean())"
   ]
  },
  {
   "cell_type": "markdown",
   "id": "I10dEIAyldcO",
   "metadata": {
    "id": "I10dEIAyldcO"
   },
   "source": [
    " Para este caso vemos que la tasa de veces que se pide un articulo y se vuelve a pedir es del 38% "
   ]
  },
  {
   "cell_type": "markdown",
   "id": "subject-boxing",
   "metadata": {
    "id": "subject-boxing"
   },
   "source": [
    "### [C4] Para cada cliente, ¿qué proporción de sus productos ya los había pedido?"
   ]
  },
  {
   "cell_type": "code",
   "execution_count": 59,
   "id": "medical-couple",
   "metadata": {
    "id": "medical-couple",
    "scrolled": true
   },
   "outputs": [],
   "source": [
    "df_merged = df_orders.merge(df_order_products, how  = 'inner', on= 'order_id')"
   ]
  },
  {
   "cell_type": "code",
   "execution_count": 60,
   "id": "8892e4b4",
   "metadata": {
    "id": "8892e4b4"
   },
   "outputs": [
    {
     "name": "stdout",
     "output_type": "stream",
     "text": [
      "        user_id  reordered\n",
      "0             2   0.038462\n",
      "1             4   0.000000\n",
      "2             5   0.666667\n",
      "3             6   0.000000\n",
      "4             7   0.928571\n",
      "...         ...        ...\n",
      "149621   206203   0.222222\n",
      "149622   206206   0.714286\n",
      "149623   206207   0.891304\n",
      "149624   206208   0.696000\n",
      "149625   206209   0.320000\n",
      "\n",
      "[149626 rows x 2 columns]\n",
      "reordered    0.494853\n",
      "dtype: float64\n"
     ]
    }
   ],
   "source": [
    "df_2= df_merged.groupby(by='user_id').mean().reset_index()\n",
    "print(df_2[['user_id','reordered']])\n",
    "print(df_2[['reordered']].mean())"
   ]
  },
  {
   "cell_type": "markdown",
   "id": "BgJSvXDsleXz",
   "metadata": {
    "id": "BgJSvXDsleXz"
   },
   "source": [
    " Para la mayoría de los clientes tenemos que aproxiamdamente el 49% de los productos ya habían sido pedidos. "
   ]
  },
  {
   "cell_type": "markdown",
   "id": "92d35137",
   "metadata": {
    "id": "92d35137"
   },
   "source": [
    "### [C5] ¿Cuáles son los 20 principales artículos que las personas ponen primero en sus carritos?"
   ]
  },
  {
   "cell_type": "code",
   "execution_count": 61,
   "id": "0ae57274",
   "metadata": {
    "id": "0ae57274",
    "scrolled": true
   },
   "outputs": [],
   "source": [
    "cart_order = df_order_products[df_order_products['add_to_cart_order'] == 1]\n",
    "cart_order_groupby = cart_order.groupby('product_id').count().reset_index()"
   ]
  },
  {
   "cell_type": "code",
   "execution_count": 62,
   "id": "forty-netherlands",
   "metadata": {
    "id": "forty-netherlands",
    "scrolled": true
   },
   "outputs": [],
   "source": [
    "cart_order_sorted = cart_order_groupby.sort_values(by = 'order_id', ascending = False).head(20)\n",
    "cart_products_merge = cart_order_sorted.merge(df_products, how='inner', on='product_id')"
   ]
  },
  {
   "cell_type": "code",
   "execution_count": 63,
   "id": "08e41ec2",
   "metadata": {
    "id": "08e41ec2"
   },
   "outputs": [
    {
     "name": "stdout",
     "output_type": "stream",
     "text": [
      "    product_id                 product_name  order_id\n",
      "0        24852                       Banana     15562\n",
      "1        13176       Bag of Organic Bananas     11026\n",
      "2        27845           Organic Whole Milk      4363\n",
      "3        21137         Organic Strawberries      3946\n",
      "4        47209         Organic Hass Avocado      3390\n",
      "5        21903         Organic Baby Spinach      3336\n",
      "6        47766              Organic Avocado      3044\n",
      "7        19660                 Spring Water      2336\n",
      "8        16797                 Strawberries      2308\n",
      "9        27966          Organic Raspberries      2024\n",
      "10       44632   Sparkling Water Grapefruit      1914\n",
      "11       49235          Organic Half & Half      1797\n",
      "12       47626                  Large Lemon      1737\n",
      "13         196                         Soda      1733\n",
      "14       38689     Organic Reduced Fat Milk      1397\n",
      "15       26209                        Limes      1370\n",
      "16       12341                Hass Avocados      1340\n",
      "17        5785  Organic Reduced Fat 2% Milk      1310\n",
      "18       27086                  Half & Half      1309\n",
      "19       43352                  Raspberries      1246\n"
     ]
    }
   ],
   "source": [
    "articulos_cart_20 = cart_products_merge[['product_id','product_name','order_id']]\n",
    "print(articulos_cart_20)"
   ]
  },
  {
   "cell_type": "markdown",
   "id": "28ce9872",
   "metadata": {
    "id": "28ce9872"
   },
   "source": [
    "Escribe aquí tus conclusiones. Vemos que los artículos que se agregan primero al carrito de compra, son por lo común también los más pedidos y aquellos que por lo común se reordenan. "
   ]
  },
  {
   "cell_type": "markdown",
   "id": "uITbFCEoDosC",
   "metadata": {
    "id": "uITbFCEoDosC"
   },
   "source": [
    "### Conclusion general del proyecto:"
   ]
  },
  {
   "cell_type": "markdown",
   "id": "ba66f2d0",
   "metadata": {
    "id": "Nk-4GS7mDwqY"
   },
   "source": [
    "En este proyecto se observaron las tendencias de compra de la plataforma Instacart, donde después de realizar una limpieza de datos a través de eliminación y reemplazo de datos duplicados y ausentes pudimos identificar varias tendencias. \n",
    "En primer lugar vimos que las personas suelen realizar sus pedidos de manera mensual, principalmente a las 10.00 y 15.00 horas, comunmente al inicio de la semana el domingo y lunes. \n",
    "Finalmente vemos que los productos predilectos tanto para reorden como en preferencia para añadir por primera vez al carrito de compras, son normalemnte frutos orgánicos, siendo el primer producto más solictado las bananas"
   ]
  }
 ],
 "metadata": {
  "colab": {
   "provenance": []
  },
  "kernelspec": {
   "display_name": "Python 3 (ipykernel)",
   "language": "python",
   "name": "python3"
  },
  "language_info": {
   "codemirror_mode": {
    "name": "ipython",
    "version": 3
   },
   "file_extension": ".py",
   "mimetype": "text/x-python",
   "name": "python",
   "nbconvert_exporter": "python",
   "pygments_lexer": "ipython3",
   "version": "3.9.19"
  },
  "toc": {
   "base_numbering": 1,
   "nav_menu": {},
   "number_sections": true,
   "sideBar": true,
   "skip_h1_title": true,
   "title_cell": "Table of Contents",
   "title_sidebar": "Contents",
   "toc_cell": false,
   "toc_position": {},
   "toc_section_display": true,
   "toc_window_display": false
  },
  "vscode": {
   "interpreter": {
    "hash": "01a7be9ec63e704a62cefc5fe7a4756944464ee731be31632bdf42a4cb4688cf"
   }
  }
 },
 "nbformat": 4,
 "nbformat_minor": 5
}
